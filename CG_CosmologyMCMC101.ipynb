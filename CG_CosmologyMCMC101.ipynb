{
  "nbformat": 4,
  "nbformat_minor": 0,
  "metadata": {
    "colab": {
      "name": "CG - CosmologyMCMC101.ipynb",
      "provenance": [],
      "collapsed_sections": [],
      "include_colab_link": true
    },
    "kernelspec": {
      "display_name": "Python 3",
      "language": "python",
      "name": "python3"
    },
    "language_info": {
      "codemirror_mode": {
        "name": "ipython",
        "version": 3
      },
      "file_extension": ".py",
      "mimetype": "text/x-python",
      "name": "python",
      "nbconvert_exporter": "python",
      "pygments_lexer": "ipython3",
      "version": "3.8.7"
    }
  },
  "cells": [
    {
      "cell_type": "markdown",
      "metadata": {
        "id": "view-in-github",
        "colab_type": "text"
      },
      "source": [
        "<a href=\"https://colab.research.google.com/github/ka-grb/PRA3024/blob/main/CG_CosmologyMCMC101.ipynb\" target=\"_parent\"><img src=\"https://colab.research.google.com/assets/colab-badge.svg\" alt=\"Open In Colab\"/></a>"
      ]
    },
    {
      "cell_type": "markdown",
      "metadata": {
        "id": "TkdruF2bYl5j"
      },
      "source": [
        "# <span style='color:deepskyblue'> Cosmology MCMC notebook </span>"
      ]
    },
    {
      "cell_type": "markdown",
      "metadata": {
        "id": "t0SazaVif4pl"
      },
      "source": [
        "## <span style='color:deepskyblue'>Preliminaries</span>"
      ]
    },
    {
      "cell_type": "code",
      "metadata": {
        "colab": {
          "base_uri": "https://localhost:8080/"
        },
        "id": "y6hcXmMbhbMA",
        "scrolled": true,
        "outputId": "27ac635a-844d-4c5e-d44e-0a13cce2952d"
      },
      "source": [
        "# Install required packages (if not available on server)\n",
        "!pip install getdist\n",
        "import numpy as np\n",
        "import matplotlib.pyplot as plt"
      ],
      "execution_count": null,
      "outputs": [
        {
          "output_type": "stream",
          "text": [
            "Collecting getdist\n",
            "\u001b[?25l  Downloading https://files.pythonhosted.org/packages/58/6e/81301f33959ccbac42e29ce542d32f20a056a89a130cba60b84bd50da180/GetDist-1.1.3.tar.gz (748kB)\n",
            "\u001b[K     |████████████████████████████████| 757kB 5.7MB/s \n",
            "\u001b[?25hRequirement already satisfied: numpy in /usr/local/lib/python3.7/dist-packages (from getdist) (1.19.5)\n",
            "Requirement already satisfied: matplotlib>=2.2.0 in /usr/local/lib/python3.7/dist-packages (from getdist) (3.2.2)\n",
            "Requirement already satisfied: scipy>=1.0.0 in /usr/local/lib/python3.7/dist-packages (from getdist) (1.4.1)\n",
            "Requirement already satisfied: cycler>=0.10 in /usr/local/lib/python3.7/dist-packages (from matplotlib>=2.2.0->getdist) (0.10.0)\n",
            "Requirement already satisfied: python-dateutil>=2.1 in /usr/local/lib/python3.7/dist-packages (from matplotlib>=2.2.0->getdist) (2.8.1)\n",
            "Requirement already satisfied: pyparsing!=2.0.4,!=2.1.2,!=2.1.6,>=2.0.1 in /usr/local/lib/python3.7/dist-packages (from matplotlib>=2.2.0->getdist) (2.4.7)\n",
            "Requirement already satisfied: kiwisolver>=1.0.1 in /usr/local/lib/python3.7/dist-packages (from matplotlib>=2.2.0->getdist) (1.3.1)\n",
            "Requirement already satisfied: six in /usr/local/lib/python3.7/dist-packages (from cycler>=0.10->matplotlib>=2.2.0->getdist) (1.15.0)\n",
            "Building wheels for collected packages: getdist\n",
            "  Building wheel for getdist (setup.py) ... \u001b[?25l\u001b[?25hdone\n",
            "  Created wheel for getdist: filename=GetDist-1.1.3-cp37-none-any.whl size=197835 sha256=808ed275c9684d1b00fdba033f0580a98f5e39aedabc957a5edffec80273f20c\n",
            "  Stored in directory: /root/.cache/pip/wheels/20/83/bf/457b60706b0e11c579e87c44699b64466d67e6cce1b1765eb7\n",
            "Successfully built getdist\n",
            "Installing collected packages: getdist\n",
            "Successfully installed getdist-1.1.3\n"
          ],
          "name": "stdout"
        }
      ]
    },
    {
      "cell_type": "markdown",
      "metadata": {
        "id": "ayxOF90lVqKY"
      },
      "source": [
        "## <span style='color:deepskyblue'> The $\\Lambda$CDM Model </span>\n",
        "\n",
        "The Lambda-Cold-Dark-Matter ($\\Lambda$CDM) Model is our concordance cosmological model. It postulates a Universe that behaves according to **General Relativity**, filled with **baryons** (protons, neutrons - the stuff we and stars are made of!), **Cold Dark Matter (CDM)** and a **Cosmological Constant** $\\Lambda$.\n",
        "\n",
        "The expansion of the Universe is best described in terms of the **scale factor** $a$ (the \"radius\" of the Universe, conventionally set to 1 today) and the **Hubble rate** $H$\n",
        "\n",
        "$$\n",
        "H \\equiv \\frac{\\dot a}{a}\n",
        "$$\n",
        "\n",
        "The Einstein Equations in a **homogeneous, isotropic** Universe have an especially simple form and a special name, **Friedmann Equation**:\n",
        "\n",
        "$$\n",
        "H^2 = \\frac{8\\pi G}{3}\\rho + \\frac{k}{a^2}\n",
        "$$\n",
        "\n",
        "where $\\rho$ is the total energy density of the Universe (at a certain time or size), and $k$ is a universal constant related to the [spatial curvature and shape of the Universe](https://en.wikipedia.org/wiki/Shape_of_the_universe#:~:text=The%20spatial%20curvature%20is%20related,indistinguishable%20spaces%20with%20different%20topologies.). In the $\\Lambda$CDM model, this additionally simplifies to\n",
        "\n",
        "$$\n",
        "\\boxed{\n",
        "H^2 = H_0^2\\left(\\Omega_\\Lambda + \\Omega_m a^{-3} + \\Omega_k a^{-2}\\right)\n",
        "}\n",
        "\\qquad\n",
        "\\qquad\n",
        "\\Omega_m + \\Omega_\\Lambda + \\Omega_k = 1\n",
        "$$\n",
        "\n",
        "$H_0$ is the value of the Hubble rate *today*, and the parameters $\\Omega_m$, $\\Omega_\\Lambda$ and $\\Omega_k$ are dimensionless quantities indicating how much of the present expansion of the Universe is due to (non-relativistic) matter, cosmological constant $\\Lambda$, and spatial curvature $k$. Note that the three $\\Omega$'s are *not independent* (their sum is 1) and that we grouped together the contribution of baryons and CDM,\n",
        "\n",
        "$$\n",
        "\\Omega_m = \\Omega_{\\rm CDM} + \\Omega_{\\rm b}\n",
        "$$\n",
        "\n",
        "and that we have evidence that independent evidence that $\\Omega_b \\approx 5$\\%. Note that only $\\Omega_m \\geq 0$ makes physical sense, while in principle both $\\Omega_\\Lambda$ and $\\Omega_k$ can be negative.\n",
        "\n",
        "The present Hubble rate is conventionally parametrised in terms of the dimensionless $h$:\n",
        "\n",
        "$$\n",
        "H_0 \\equiv h\\,\\frac{\\text{km}}{\\text{s Mpc}}\n",
        "$$\n",
        "\n",
        "where Mpc = Megaparsec and [parsec](https://en.wikipedia.org/wiki/Parsec) equals to about $3.26$ light years or $3.086 \\cdot 10^{13}$ m. \n",
        "\n",
        "In essence, these equations give us the relation between *what exists in the Universe* and *how the Universe expanded*. Measure one, I can tell you the other. This is precisely what we aim to do!\n",
        "\n",
        "Time to define the function $H(z)$. Don't forget to include the useful parameters as arguments of the function, and to define `parsec`."
      ]
    },
    {
      "cell_type": "code",
      "metadata": {
        "id": "tbt9KRwyfV5w"
      },
      "source": [
        "import math"
      ],
      "execution_count": null,
      "outputs": []
    },
    {
      "cell_type": "code",
      "metadata": {
        "id": "GJRaVJ5V5YyN"
      },
      "source": [
        "# Test values\r\n",
        "H0 = 70\r\n",
        "omega_lambda = 0.7\r\n",
        "omega_m = 0.3\r\n",
        "omega_k = 0\r\n",
        "z = 0.5"
      ],
      "execution_count": null,
      "outputs": []
    },
    {
      "cell_type": "code",
      "metadata": {
        "id": "d6HBF0yYBR2U",
        "colab": {
          "base_uri": "https://localhost:8080/"
        },
        "outputId": "f9e0dbb6-b2ff-465b-88e6-cff5eb01f50c"
      },
      "source": [
        "# Hubble function \n",
        "\n",
        "PARSEC = 3.086E+13 # <--- YOUR CODE GOES HERE!\n",
        "MEGAPARSEC = PARSEC*(10**6)\n",
        "\n",
        "# Hubble(arg0, arg1, arg2, etc...)\n",
        "def Hubble(H0, omega_lambda, omega_m, omega_k, z): \n",
        "  return H0*math.sqrt( omega_lambda + omega_m*((1+z)**3) + omega_k*((1+z)**2) )\n",
        "\n",
        "print(Hubble(H0, omega_lambda, omega_m, omega_k, z))"
      ],
      "execution_count": null,
      "outputs": [
        {
          "output_type": "stream",
          "text": [
            "91.60376629811681\n"
          ],
          "name": "stdout"
        }
      ]
    },
    {
      "cell_type": "markdown",
      "metadata": {
        "id": "Fo1C6_DGBR2V"
      },
      "source": [
        "##  <span style='color:deepskyblue'>Supernovae Ia</span>\n",
        "\n",
        "In order to track the expansion of the Universe, we will look at Supernovae type Ia observations. SNIa are formed when a *white dwarf* accretes matter from a companion until it reaches a critical mass of about $1.44 M_\\odot$ (solar masses), after which it explodes **at always the same luminosity** $L_{\\rm SN}$. Therefore, the observed [magnitude](https://en.wikipedia.org/wiki/Magnitude_(astronomy)) is only a function of their [**luminosity distance**](https://en.wikipedia.org/wiki/Distance_measures_(cosmology)) from Earth, defined as the ratio of the intrinsic luminosity $L_{\\rm SNIa}$ and the measured *surface brightness* $\\Phi$ (energy per unit time per unit area)\n",
        "\n",
        "$$ d_L\\equiv \\frac{L_{\\rm SN}}{4\\pi \\Phi} $$\n",
        "\n",
        "While photons (light rays) travel from the distant SNIa to Earth, the Universe expands and the photons get redshifted, and this redshift is directly related to the size of the Universe when the photon was emitted compared to today:\n",
        "\n",
        "$$ \\frac{\\lambda_{\\rm obs}}{\\lambda_{\\rm em}} \\equiv 1 + z_{\\rm em} = \\frac{1}{a_{\\rm em}}$$\n",
        "\n",
        "We can express the luminosity distance in terms of the Hubble rate:\n",
        "\n",
        "$$ \n",
        "\\boxed{\n",
        "\n",
        "d_L(z) = \\frac{c}{H_0}(1+z)\n",
        "\\begin{cases}\n",
        "    \\cfrac{1}{\\sqrt{\\Omega_k}} \\sinh\\left(\\sqrt{\\Omega_k}D(z)\\right) & \\Omega_k > 0\n",
        "    \\\\[.5em]\n",
        "    D(z) & \\Omega_k > 0\n",
        "    \\\\[.5em]\n",
        "    \\cfrac{1}{\\sqrt{-\\Omega_k}} \\sin\\left(\\sqrt{-\\Omega_k}D(z)\\right) & \\Omega_k < 0\n",
        "\\end{cases}\n",
        "\\qquad\\qquad\n",
        "D(z) \\equiv H_0\\int_0^z \\frac{{\\rm d}Z}{H(Z)}\n",
        "\n",
        "}\n",
        "$$\n",
        "\n",
        "where $c$ is the speed of light: $c \\simeq 2.998 \\cdot 10^{5}$ km/s.\n",
        "\n",
        "Clearly, there exists a relation between $d_L(z)$ and $H(z)$, so the luminosity distance is a useful measure of the Universe expansion history.\n",
        "\n",
        "We can create the function `dL(z, h, Omega_m, Omega_L)`. You can also pass the function `Hubble` as an argument: `dL(z, Hubble, Omega_m, Omega_Lambda)`. Additionally, you can create $D(z)$ for your convenience.\n",
        "\n",
        "Note that you need to integrate the function $H(z)$, so write your own quick-and-easy numerical integrator or [look up the pre-written methods](https://docs.scipy.org/doc/scipy/reference/tutorial/integrate.html). Make sure it returns $d_L$ in parsecs and that it uses $H_0$ measured in km/s/Mpc!"
      ]
    },
    {
      "cell_type": "code",
      "metadata": {
        "id": "bMI52FiToMd-"
      },
      "source": [
        "import scipy.integrate as integrate\r\n",
        "import scipy.integrate as quad"
      ],
      "execution_count": null,
      "outputs": []
    },
    {
      "cell_type": "code",
      "metadata": {
        "colab": {
          "base_uri": "https://localhost:8080/"
        },
        "id": "d-ORHjzcxWNk",
        "outputId": "6fb0dcfb-2a86-420f-904f-7523ee7b82e6"
      },
      "source": [
        "# Integral \r\n",
        "def fun(x):\r\n",
        "  return 1/(H0 * math.sqrt(omega_lambda + omega_m * ((1+x)**3) + abs(omega_k)*((1+x)**2) ))\r\n",
        "\r\n",
        "def Int(H0, omega_lambda, omega_m, omega_k, z):\r\n",
        "  return integrate.quad(fun, 0, z)[0]\r\n",
        "\r\n",
        "print(Int(H0, omega_lambda, omega_m, omega_k, z))"
      ],
      "execution_count": null,
      "outputs": [
        {
          "output_type": "stream",
          "text": [
            "0.006299776213627782\n"
          ],
          "name": "stdout"
        }
      ]
    },
    {
      "cell_type": "code",
      "metadata": {
        "colab": {
          "base_uri": "https://localhost:8080/"
        },
        "id": "d6IEXIssc5DS",
        "outputId": "029e7961-d35e-4faa-c401-d8c256be10a0"
      },
      "source": [
        "# dZ \r\n",
        "def dZ(H0, omega_lambda, omega_m, omega_k, z):\r\n",
        "  return H0*Int(H0, omega_lambda, omega_m, omega_k, z)\r\n",
        "  \r\n",
        "print(dZ(H0, omega_lambda, omega_m, omega_k, z))"
      ],
      "execution_count": null,
      "outputs": [
        {
          "output_type": "stream",
          "text": [
            "0.44098433495394473\n"
          ],
          "name": "stdout"
        }
      ]
    },
    {
      "cell_type": "code",
      "metadata": {
        "colab": {
          "base_uri": "https://localhost:8080/"
        },
        "id": "sAvH-aEGdUm1",
        "outputId": "87f09ab0-9c70-47a8-81ef-ae278c755278"
      },
      "source": [
        "# Luminosity distance\r\n",
        "SPEED_OF_LIGHT = 3.8*(10**5) # <--- YOUR CODE GOES HERE!\r\n",
        "\r\n",
        "def dL(H0, omega_lambda, omega_m, omega_k, z):\r\n",
        "\r\n",
        "  if (omega_k > 0):\r\n",
        "    stuff = ( 1/math.sqrt(omega_k) ) *  math.sinh( math.sqrt(omega_k) * dZ(H0, omega_lambda, omega_m, omega_k, z))\r\n",
        "\r\n",
        "  elif (omega_k == 0):\r\n",
        "    stuff = dZ(H0, omega_lambda, omega_m, omega_k, z)\r\n",
        "  \r\n",
        "  else: \r\n",
        "    omega_k = (-1)*omega_k\r\n",
        "    stuff = ( 1/math.sqrt(omega_k) ) * math.sin( math.sqrt(omega_k)* dZ(H0, omega_lambda, omega_m, omega_k, z) ) \r\n",
        "  \r\n",
        "  return (SPEED_OF_LIGHT/H0)*(1+z)*stuff\r\n",
        "\r\n",
        "print(dL(H0, omega_lambda, omega_m, omega_k, z))"
      ],
      "execution_count": null,
      "outputs": [
        {
          "output_type": "stream",
          "text": [
            "3590.872441767836\n"
          ],
          "name": "stdout"
        }
      ]
    },
    {
      "cell_type": "code",
      "metadata": {
        "id": "p_LNjFo6MNWY"
      },
      "source": [
        "# the value seems reasonable according to the graph , yay!"
      ],
      "execution_count": null,
      "outputs": []
    },
    {
      "cell_type": "markdown",
      "metadata": {
        "id": "7jXRiWtiBR2Y"
      },
      "source": [
        "## <span style='color:deepskyblue'>The Union2.1 Compilation</span>\n",
        "\n",
        "Our source of data is from [Union2.1](http://supernova.lbl.gov/Union/). It is a collection of $580$ SNIa, each observation is comprised of redshift $z$ and [distance modulus](https://en.wikipedia.org/wiki/Distance_modulus) $\\mu$ (and corresponding errors $\\delta\\mu$), defined as the difference between the *apparent magnitude* $m$ and the *absolute magnitude* $M$:\n",
        "\n",
        "$$\n",
        "\\boxed{\n",
        "\\mu(z) \\equiv m(z) - M \\equiv 5 \\log_{10} \\frac{d_L(z)}{10\\,\\text{pc}}\n",
        "}\n",
        "$$\n",
        "\n",
        "Our goal today is to use SNIa measurements to constrain the parameters ($h, \\Omega_\\Lambda, \\Omega_m$).\n",
        "\n",
        "In essence, we can calculate for each redshift the theoretical value of $\\mu$ using this equation with the expression for $d_L(z)$ and our model of choice $H(z)$ -- note that we will need to perform a numerical integral! -- and compare this value with observations. A different model would amount to changing the theoretical value of $H(z)$.\n",
        "\n",
        "Let us start by importing and plotting the data:"
      ]
    },
    {
      "cell_type": "code",
      "metadata": {
        "colab": {
          "base_uri": "https://localhost:8080/"
        },
        "id": "sKb3QGqXTuJ5",
        "outputId": "4952fe5f-e9e8-44e8-aa6c-8757622193e2"
      },
      "source": [
        "dataloc = \"http://supernova.lbl.gov/Union/figures/SCPUnion2.1_mu_vs_z.txt\"\n",
        "\n",
        "# Read in data as numpy array.\n",
        "# Format is [name, redshift, magnitude, magnitude error, and another number?]\n",
        "data = np.genfromtxt(dataloc)\n",
        "\n",
        "# Print the first line as an example. (Note that genfromtxt turns the names into 'Not A Number')\n",
        "print(data[0])"
      ],
      "execution_count": null,
      "outputs": [
        {
          "output_type": "stream",
          "text": [
            "[           nan 2.84880000e-02 3.53465834e+01 2.23905933e-01\n",
            " 1.28418942e-01]\n"
          ],
          "name": "stdout"
        }
      ]
    },
    {
      "cell_type": "code",
      "metadata": {
        "id": "2mvAA83gVIHz"
      },
      "source": [
        "# pull out the redshifts (zs), distance modulus (dist_mod) and magnitude estimated errors (err_dist_mod)\n",
        "zs = data.T[1] # redshift\n",
        "dist_mod = data.T[2] # distance modulus\n",
        "err_dist_mod = data.T[3] # errors on distance modulus"
      ],
      "execution_count": null,
      "outputs": []
    },
    {
      "cell_type": "code",
      "metadata": {
        "id": "x2hF3drbVPEW"
      },
      "source": [
        "# Let's look at the data, just for fun. \n",
        "# We can look both at the raw data (distance modulus) or calculate the luminosity distance\n",
        "# Note that Numpy allows us to manipulate whole arrays at once\n",
        "import scipy.integrate as integrate\n",
        "\n",
        "# luminosity distance in pc\n",
        "dpc = 10. * 10.**(dist_mod / 5.)\n",
        "\n",
        "# and in Mpc\n",
        "dMpc = dpc / 10.**6\n",
        "\n",
        "# and the error on that distance:\n",
        "dMe = 10. * (10.**((dist_mod + err_dist_mod)/5.-6.) - 10.**((dist_mod - err_dist_mod)/5.-6.))"
      ],
      "execution_count": null,
      "outputs": []
    },
    {
      "cell_type": "code",
      "metadata": {
        "colab": {
          "base_uri": "https://localhost:8080/",
          "height": 334
        },
        "id": "o81D-kOYYwx5",
        "outputId": "62ff7e24-2be9-4699-b9ad-39ab3fc39880"
      },
      "source": [
        "plt.subplots(1, 2, figsize=(15, 5))\n",
        "\n",
        "# Plot distance modulus versus redshift (original data)\n",
        "plt.subplot(1, 2, 1)\n",
        "plt.xlabel(\"Redshift\")\n",
        "plt.ylabel(\"Distance Modulus\")\n",
        "plt.errorbar(zs, dist_mod, yerr=err_dist_mod, fmt='o', color='black', ecolor='darkcyan', markersize=4)\n",
        "\n",
        "# Plot luminosity distance versus redshift\n",
        "plt.subplot(1, 2, 2)\n",
        "plt.xlabel(\"Redshift\")\n",
        "plt.ylabel(\"Luminosity Distance [Mpc]\")\n",
        "plt.errorbar(zs, dMpc, yerr=dMe, fmt='o', color='black', ecolor='darkcyan', markersize=4)\n",
        "plt.show()"
      ],
      "execution_count": null,
      "outputs": [
        {
          "output_type": "display_data",
          "data": {
            "image/png": "[encoded data removed]",
            "text/plain": [
              "<Figure size 1080x360 with 2 Axes>"
            ]
          },
          "metadata": {
            "tags": [],
            "needs_background": "light"
          }
        }
      ]
    },
    {
      "cell_type": "markdown",
      "metadata": {
        "id": "a5CGRuGIBR2f"
      },
      "source": [
        "## <span style='color:deepskyblue'>Bayes' Theorem: Likelihood, Prior, Posterior (and Evidence...)</span>\n",
        "\n",
        "The **conditional probability of A given that B is true** is denoted with $P(A|B)$ (read: *probability of A given B*). \n",
        "Did A happen? Then B has probability $P(B|A)$ of happening.\n",
        "\n",
        "[**Bayes' Theorem**](https://en.wikipedia.org/wiki/Bayes%27_theorem) is simply a reflection of the symmetry of the concept of joint probability:\n",
        "\n",
        "$$\n",
        "P(A|B)P(B) = P(B|A)P(A)\n",
        "$$\n",
        "\n",
        "In physics, our goal is often to determine how likely the values of some parameters $\\theta$ are, given how well they reproduce the data $D$. \n",
        "We write Bayes' theorem in the following equivalent form:\n",
        "\n",
        "$$\n",
        "P(\\theta | D) = \\frac{P(D|\\theta)P(\\theta)}{P(D)}\n",
        "$$\n",
        "\n",
        "The various terms conventionally take the names:\n",
        "\n",
        "$$\n",
        "\\begin{aligned}\n",
        "P(\\theta | D) & && \\text{Posterior}\n",
        "\\\\\n",
        "P(D | \\theta)& && \\text{Likelihood}\n",
        "\\\\\n",
        "P(\\theta) & && \\text{Prior}\n",
        "\\\\\n",
        "P(D) & && \\text{Evidence}\n",
        "\\end{aligned}\n",
        "$$\n",
        "\n",
        "### <span style='color:deepskyblue'>Prior</span>\n",
        "\n",
        "The *prior* quantifies our degree of prior belief in the model parameters. It can contain the results of previous experiments, or theoretical considerations (for instance, that certain parameters cannot be negative, etc.). \n",
        "\n",
        "We can have *strong priors* about something - the Sun still existing at night, see the comic below - or not.\n",
        "When we do *not* have compelling prior knowledge about a parameter, we generally use a *non-informative* prior probability distribution, most often related to the [uniform distribution](https://en.wikipedia.org/wiki/Continuous_uniform_distribution)\n",
        "\n",
        "$$\n",
        "\\begin{aligned}\n",
        "    \\text{Uniform} & && \\theta \\in \\text{Uniform}[\\theta_{\\rm min}, \\theta_{\\rm max}]\n",
        "    \\\\\n",
        "    \\text{Log Uniform} & && \\log\\theta \\in \\text{Uniform}[\\log\\theta_{\\rm min}, \\log\\theta_{\\rm max}]\n",
        "\\end{aligned}\n",
        "$$\n",
        "\n",
        "You may sometimes hear that \"the prior doesn't matter\". While this is not strictly true, it is however true that in many instances the *likelihood* depends more dramatically on the parameters and will have a dominating contribution to the posterior. You are more than welcome to try different priors for the model parameters and see if and how your results change.\n",
        "\n",
        "### <span style='color:deepskyblue'>Likelihood</span>\n",
        "\n",
        "The measure of how well our model reproduces the data is the **likelihood** $\\mathcal L$. For normal (=Gaussian), uncorrelated data $\\mu_i$ with errors $\\sigma_i$ ($i = \\{1,580\\}$), the likelihood is related to the famous [**chi-squared**](https://en.wikipedia.org/wiki/Chi-square_distribution) via\n",
        "\n",
        "$$\n",
        "P(D | \\theta) \\equiv \\mathcal L = \\exp\\left(-\\frac{\\chi^2}{2}\\right)\n",
        "\\qquad\n",
        "\\qquad\n",
        "\\boxed{\n",
        "\\chi^2 \\equiv \\sum_{i=1}^{580} \\frac{\\left(\\mu_i^{(\\rm theor)} - \\mu_i^{(\\rm obs)}\\right)^2}{\\sigma_i^2}\n",
        "}\n",
        "$$\n",
        "\n",
        "A *high likelihood* corresponds to a *low chi squared*.\n",
        "\n",
        "In principle, we could attack the problem brute-force: create a grid of values for $h$, $\\Omega_m$, $\\Omega_\\Lambda$, calculate the likelihood for each combination, and create a profile for the likelihood. \n",
        "\n",
        "In practical cases, however, this is not only sub-optimal but sometimes **impossible**. Think of complicated models with 20+ free parameters (this is not that unusual in physics, by the way). Even a very coarse grained grid of 100 values for each parameter would result in more than$10^{40}$ (!!!) different parameter combination to be tested. You can probably understand why this is undesirable.\n",
        "\n",
        "### <span style='color:deepskyblue'>Evidence</span>\n",
        "\n",
        "This is the tricky bit. The evidence, which is \"*the probability of observing certain data*\", is not something that is easy to evaluate or interpret. This looks like a serious limitation to finding the:\n",
        "\n",
        "\n",
        "### <span style='color:deepskyblue'>Posterior</span>\n",
        "\n",
        "What does the data tell us about the model parameters? The answer is the *posterior probability distribution*, often (but not necessarily) expressed as (average $\\pm$ standard deviation)\n",
        "\n",
        "$$\n",
        "\\theta_i = \\bar\\theta_i \\pm \\sigma_i\n",
        "$$\n",
        "\n",
        "In other words, the posterior tells us how likely it is for the model parameters to have certain values, *given that we observe the data* $D$.\n",
        "\n",
        "*This is the final goal of our analysis!*\n",
        "\n",
        "<br>\n",
        "\n",
        "![title](http://1.bp.blogspot.com/-tTx4HDejSww/ULcTeK9_V_I/AAAAAAAAA8g/PCYOH-eXGbk/s1600/frequentists_vs_bayesians.png)\n",
        "![title](https://i.redd.it/5r0hwixt0m931.jpg)"
      ]
    },
    {
      "cell_type": "markdown",
      "metadata": {
        "id": "lymI_LaObhcU"
      },
      "source": [
        "## <span style='color:deepskyblue'>Markov-Chain Monte Carlo</span>\n",
        "\n",
        "Markov-Chain Monte Carlo techniques are a class of methods to sample a probability distribution $P(x)$ - in our case $P(\\theta | D)$ - provided that we can calculate a density $\\mathcal F(x)$ **that is proportional to it** - in our case $P(\\theta)P(D|\\theta)$ = likelihood $\\times$ prior. Among these, a very popular one is the [**Metropolis-Hastings**](https://en.wikipedia.org/wiki/Metropolis%E2%80%93Hastings_algorithm) algorithm, which is what we will use.\n",
        "\n",
        "Schematically, the algorithm works as follows:\n",
        "* Start with an $n$-tuple of parameters $\\theta_{\\rm old} = \\{\\theta_1, \\theta_2, \\dots\\}_{\\rm old}$ (in our case $\\theta = \\{h,\\Omega_m,\\Omega_\\Lambda\\}$) and calculate the $\\mathcal F_{\\rm old}$\n",
        "* Propose a new set of parameters $\\theta_{\\rm prop}$, calculate the new corresponding $\\mathcal F_{\\rm prop}$. How you propose the new parameters is not essential as long as the probability of going from one set of parameters to the next is the same as the inverse: $P(\\theta_a \\to \\theta_b) = P(\\theta_b \\to \\theta_a)$. For this, we normally take Gaussian displacements with some (relatively small) standard deviation.\n",
        "* Compare the new and old likelihoods-priors:\n",
        "    * If $\\mathcal F_{\\rm prop} > \\mathcal F_{\\rm old}$, accept the step: $\\theta_{\\rm new} = \\theta_{\\rm prop}$\n",
        "    * Otherwise, accept with probability $P_{\\rm accept} = \\mathcal F_{\\rm prop}/\\mathcal F_{\\rm old}$\n",
        "* If accepted, $\\theta_{\\rm new} = \\theta_{\\rm prop}$ and record the step; otherwise, $\\theta_{\\rm new} = \\theta_{\\rm old}$ (no re-recording)\n",
        "* Update $\\theta_{\\rm old} = \\theta_{\\rm new}$\n",
        "* Repeat\n",
        "\n",
        "The MC chain keeps going until the desired number of steps or, ideally, when a suitable convergence test, like for example the [Gelman-Rubin test](https://bookdown.org/rdpeng/advstatcomp/monitoring-convergence.html), is satisfied. \n",
        "Today we will just set a limit to the total number of steps, but please feel free to implement and test your favourite convergence test!\n",
        "\n",
        "Looking at equation (4), you can convince yourself that\n",
        "$$\n",
        "\\frac{\\mathcal L_a}{\\mathcal L_b} = \\exp\\left(\\frac{\\chi_b^2 - \\chi_a^2}{2}\\right)\n",
        "$$\n",
        "\n",
        "(This is useful because $\\chi^2$ can be large, so we want to avoid the likelihoods evaluating to `0.` -- computers don't like dividing by zero, unfortunately)\n",
        " \n",
        "* Start with an $n$-tuple of parameters $\\theta_{\\rm old} = \\{\\theta_1, \\theta_2, \\dots\\}_{\\rm old}$ (in our case $\\theta = \\{h,\\Omega_m,\\Omega_\\Lambda\\}$) and the corresponding chi squared $\\chi_{\\rm old}^2$ (to be clear, for us this implies calculating a series of 580 integrals and comparing each with the observed values)\n",
        "* Propose new parameters $\\theta_{\\rm prop}$ and calculate the corresponding chi squared $\\chi_{\\rm prop}^2$\n",
        "* Draw a random number $r \\in [0,1]$\n",
        "* Accept the step if \n",
        "$$\n",
        "r < \\exp\\left(\\frac{\\chi_{\\rm old}^2 - \\chi_{\\rm prop}^2}{2}\\right) \\frac{P(\\theta)_{\\rm prop}}{P(\\theta)_{\\rm old}}\n",
        "$$\n",
        "    * If accepted, update $\\theta_{\\rm old} = \\theta_{\\rm prop}$, and record; otherwise, $\\theta_{\\rm new} = \\theta_{\\rm old}$ (no re-recording)\n",
        "* Repeat"
      ]
    },
    {
      "cell_type": "code",
      "metadata": {
        "id": "WqOqwo5qngFR"
      },
      "source": [
        "# Theoretical distance modulus function \r\n",
        "def theor_distance_modulus(H0, omega_lambda, omega_m, omega_k, z):\r\n",
        "  return 5*np.log10( dL(H0, omega_lambda, omega_m, omega_k, z)/(1E-5) )"
      ],
      "execution_count": null,
      "outputs": []
    },
    {
      "cell_type": "code",
      "metadata": {
        "colab": {
          "base_uri": "https://localhost:8080/"
        },
        "id": "fcxMgN0grUdC",
        "outputId": "17fc8163-b512-48dd-d199-2392a6b5775e"
      },
      "source": [
        "# Markov-Chain Monte Carlo \r\n",
        "\r\n",
        "print(\"H0, Omega_m, Omega_l:\")\r\n",
        "\r\n",
        "loops = 200 # Define number of loops\r\n",
        "end = len(zs) \r\n",
        "\r\n",
        "# List of new parameters (size depending on number of loops)\r\n",
        "H0_arr = np.random.normal(70, 1, size = (loops,1)) # H0s\r\n",
        "o_l_arr = np.random.normal(0.7, 0.1, size = (loops,1)) # Omega_lambdas\r\n",
        "o_m_arr = np.random.normal(0.3, 0.1, size = (loops,1)) # Omega_ms\r\n",
        "ones_arr = np.ones((loops,1))\r\n",
        "o_k_arr = ones_arr - (o_l_arr + o_m_arr) # Omega_ks\r\n",
        " \r\n",
        "# Looping through every set of parameters\r\n",
        "for j in range(0, loops):\r\n",
        "  chisquare = 0 \r\n",
        "  \r\n",
        "  # Looping through every z to compute chisquare\r\n",
        "  for i in range(0, end):\r\n",
        "    sum = ((theor_distance_modulus(H0_arr[j,0], o_l_arr[j,0], o_m_arr[j,0], o_k_arr[j,0], zs[i]) - dist_mod[i] )**2)/((err_dist_mod[i])**2)\r\n",
        "    chisquare += sum # New chisquare\r\n",
        "    chisquare_old = chisquare # Updating chisquare\r\n",
        "\r\n",
        "  r = np.random.uniform(0,1) # Drawing a random number between 0 and 1\r\n",
        "  \r\n",
        "  # Condition to accept the step\r\n",
        "  if r < np.exp( ((chisquare_old**2) - (chisquare**2)) / 2 ): \r\n",
        "      tuple = (H0_arr[j,0], o_m_arr[j,0], o_l_arr[j,0])\r\n",
        "      print(tuple)"
      ],
      "execution_count": null,
      "outputs": [
        {
          "output_type": "stream",
          "text": [
            "H0, Omega_m, Omega_l:\n",
            "(70.36762923114404, 0.3549713642391613, 0.7932714085405795)\n",
            "(69.73538152399776, 0.2858166389628753, 0.8036991458449314)\n",
            "(70.07024519212618, 0.1634888262655772, 0.7983049160692072)\n",
            "(70.37704360617948, 0.2314858390916674, 0.559952438627414)\n",
            "(70.41264455957518, 0.2285428272427556, 0.7149980742486841)\n",
            "(70.13742142003855, 0.24749092326904495, 0.7013613699979794)\n",
            "(70.40340478209514, 0.3339792222100112, 0.5894927039935868)\n",
            "(69.5810496204157, 0.1980010535835507, 0.751105462646691)\n",
            "(69.65638223492873, 0.37662170666453987, 0.6564307198088519)\n",
            "(71.46063764889239, 0.2707466610970338, 0.6167281095464491)\n",
            "(71.3606157648976, 0.18463383598439576, 0.5805753682408191)\n",
            "(71.20561213700866, 0.21032038273015324, 0.7188544862886317)\n",
            "(70.44503821803575, 0.3445297797156474, 0.7776082167055804)\n",
            "(69.39467080706527, 0.10828350060550476, 0.745438950088754)\n",
            "(70.6312614353077, 0.40672307220339976, 0.7801532197184881)\n",
            "(70.49170194919094, 0.13729134273125929, 0.6219558938887715)\n",
            "(71.46129788101739, 0.356276247623173, 0.692588233566882)\n",
            "(68.75310182474678, 0.42925749036567273, 0.6771868281547032)\n",
            "(70.9243192403806, 0.3477829315754228, 0.7190633526443214)\n",
            "(70.5062089249304, 0.3727365657696989, 0.6407499666737232)\n",
            "(69.29904725826981, 0.25468573294965535, 0.8287080497463368)\n",
            "(69.5147622358817, 0.4147534428768723, 0.7672138733868257)\n",
            "(71.02554522997947, 0.39091709387739443, 0.406645689823382)\n",
            "(71.76418665033809, 0.3049694667347988, 0.5847637031802193)\n",
            "(70.75133683143494, 0.19551837407546763, 0.804730693154738)\n",
            "(70.40382840717145, 0.1301083809664701, 0.5810583219358603)\n",
            "(69.89962545549002, 0.4234010634899982, 0.9202624332956408)\n",
            "(70.86433026610699, 0.24468744448522423, 0.6932649232004019)\n",
            "(72.16889435195024, 0.18086923992906906, 0.6371186216047889)\n",
            "(71.13579766426528, 0.14560386718812818, 0.7871295708757059)\n",
            "(69.39914588438717, 0.3484172498311641, 0.711492239188626)\n",
            "(73.43532029397619, 0.1275581288163986, 0.8606486993196758)\n",
            "(69.77807237535569, 0.2426477817941874, 0.5974602556681842)\n",
            "(69.34543061710352, 0.3693700501548268, 0.8041421095974819)\n",
            "(69.84113497445607, 0.4232916225663378, 0.7088269840045315)\n",
            "(70.3410589734824, 0.3688100341128704, 0.7835209531057495)\n",
            "(68.70148219659445, 0.23324705244370486, 0.6589301716665519)\n",
            "(71.53839658502511, 0.3718804750831299, 0.7270131882767472)\n",
            "(68.39468795442015, 0.2538103834597988, 0.798822762789761)\n",
            "(71.37710811266811, 0.2837918385693867, 0.7824694682076416)\n",
            "(69.92678508559247, 0.23976245783720251, 0.6532281982615901)\n",
            "(70.14769153718535, 0.327235008658118, 0.6151197467718909)\n",
            "(67.25439322623862, 0.28114272168344373, 0.4977233521367978)\n",
            "(68.5326187437608, 0.3548019594014499, 0.7666521533700298)\n",
            "(70.24162838606657, 0.22250885978167212, 0.8117128723781784)\n",
            "(69.95843270885139, 0.39140672533009135, 0.5608066320117798)\n",
            "(70.44217264104564, 0.18128455632136276, 0.7791393580548203)\n",
            "(69.15905373492983, 0.23733269033922672, 0.7338758480477038)\n",
            "(71.0924427507621, 0.34003800293751585, 0.655449167321604)\n",
            "(69.6246331876337, 0.3436896419448815, 0.6390797846438101)\n",
            "(69.86578554565449, 0.2737536674330411, 0.7958680016546419)\n",
            "(69.55255111739662, 0.2171150540638287, 0.6572055525862601)\n",
            "(70.74034206731356, 0.29416813287952376, 0.7220552265390281)\n",
            "(71.1870872391483, 0.5351444946815934, 0.7599496249957096)\n",
            "(71.22776887942278, 0.36111734290256725, 0.9042638853146926)\n",
            "(71.55905299227776, 0.26517681942063465, 0.7435211166962019)\n",
            "(70.41682218034323, 0.13442896484063038, 0.6663511876515342)\n",
            "(69.42296683305403, 0.49398820369147883, 0.5808487570214619)\n",
            "(71.12141891003091, 0.22222359035821276, 0.585977504980645)\n",
            "(70.18176650229488, 0.2107489786067615, 0.6439080371820882)\n",
            "(69.53859220372394, 0.28222455088424964, 0.548961625754651)\n",
            "(70.09600286252439, 0.36432579531131976, 0.4465293666454797)\n",
            "(70.22865469065259, 0.2521473028382476, 0.671268322063749)\n",
            "(68.8701106422517, 0.17802370086079958, 0.7523044035395594)\n",
            "(70.69274086836712, 0.33740043456165725, 0.8046416165800389)\n",
            "(72.01554986596713, 0.2897646029608486, 0.6020695182236898)\n",
            "(72.17802149368632, 0.3306231169536686, 0.6938193571983842)\n",
            "(68.84450500359989, 0.11826313684018802, 0.7300562877162584)\n",
            "(71.3734445603669, 0.33505187959575594, 0.8496378107922649)\n",
            "(69.75437548448264, 0.28023151337144814, 0.539642553076363)\n",
            "(69.40184874408959, 0.36104798171543995, 0.6349418607908387)\n",
            "(69.72661195048221, 0.28647532265844877, 0.7962108474706732)\n",
            "(68.94027171305311, 0.2934042693216298, 0.7687095133543942)\n",
            "(69.22550719732696, 0.026533208831761135, 0.6179514397016569)\n",
            "(69.24600532685402, 0.36704905054603193, 0.7069502389050651)\n",
            "(70.5611370838656, 0.34794254474927644, 0.7108647630269397)\n",
            "(71.37040667912518, 0.2684909507409406, 0.6634912385724385)\n",
            "(68.46269457727844, 0.44646350418697883, 0.6249256581168391)\n",
            "(69.54598745339626, 0.27863218598540107, 0.8115139263358104)\n",
            "(69.29780351161155, 0.13828146455566862, 0.6200572423839663)\n",
            "(68.93650442790661, 0.35255805807083274, 0.7311514686491772)\n",
            "(69.33069411952859, 0.2807308536396771, 0.5666184995409761)\n",
            "(71.41090155182323, 0.21766493078565952, 0.7502364709800391)\n",
            "(70.87011303518533, 0.30355171429871824, 0.6140460686711555)\n",
            "(69.4717459749977, 0.4440357791737056, 0.7169030505890784)\n",
            "(69.62754176109442, 0.3677200683591094, 0.6784489246347595)\n",
            "(70.79492691349787, 0.21142166085496988, 0.6665427106497556)\n",
            "(72.70976440551146, 0.4244665073071847, 0.7899365323033609)\n",
            "(70.43550563550484, 0.32577555612438197, 0.6720026625725032)\n",
            "(70.08818676612395, 0.3040588056666011, 0.49260214638546496)\n",
            "(69.0761223927992, 0.4036725815594391, 0.8331655959867679)\n",
            "(70.77541311026701, 0.3305653795648496, 0.7121890157602997)\n",
            "(68.66031391287191, 0.3049924340555982, 0.688124705898058)\n",
            "(71.64241652092703, 0.4496552434083635, 0.5728392282834691)\n",
            "(72.27406251383289, 0.3026281757097196, 0.7018065066920526)\n",
            "(69.9231277430636, 0.3535530686466875, 0.7215045596582323)\n",
            "(69.97516336081186, 0.31100820470671264, 0.7060147877565062)\n",
            "(70.1956541515889, 0.3802191725692996, 0.5538942183332796)\n",
            "(69.21379896614418, 0.2630312681095542, 0.7382401061420931)\n",
            "(69.06872626901044, 0.3161554533930057, 0.8366584141636444)\n",
            "(69.41639415372451, 0.2150113694139654, 0.6966074177895366)\n",
            "(71.77006087844465, 0.19351551566516928, 0.7107842352307118)\n",
            "(69.65706960819765, 0.3401161159926952, 0.8102283707214746)\n",
            "(71.06417639247063, 0.25071604868754316, 0.7601167538386292)\n",
            "(70.82190400737063, 0.11955913367356738, 0.7171229946044321)\n",
            "(68.9137561189791, 0.14732181713060505, 0.7413716012041859)\n",
            "(69.99667903906975, 0.15078877618283268, 0.8380901248258695)\n",
            "(68.96450437555602, 0.2886563645049721, 0.5382639373376013)\n",
            "(69.75695018032009, 0.25920780662831955, 0.6027801190250384)\n",
            "(69.47354588933801, 0.16750616465333232, 0.46712787388531307)\n",
            "(71.07072349590182, 0.22710530719540384, 0.5616778495371599)\n",
            "(71.56805429084416, 0.22072250646493197, 0.4747344720673361)\n",
            "(69.8698586377182, 0.244675719961438, 0.6584220400955392)\n",
            "(71.09587901532704, 0.09705277635730708, 0.5815122890129409)\n",
            "(68.82147420096355, 0.022484075313283503, 0.6656020614973311)\n",
            "(69.05206566606462, 0.2497334985724301, 0.7355923555965475)\n",
            "(69.54242870679046, 0.24709868676293464, 0.7654073536051322)\n",
            "(69.14609096150477, 0.3944038102377273, 0.6940204244036876)\n",
            "(69.16095434930926, 0.2425034211271319, 0.6486378373692117)\n",
            "(70.52368278912314, 0.28575380299746517, 0.6435135183734622)\n",
            "(71.11474645643038, 0.2922147815281005, 0.7127001227896793)\n",
            "(70.23665974910172, 0.12083968434463724, 0.6779419619875211)\n",
            "(70.0615387864693, 0.38400232489111186, 0.556798382679162)\n",
            "(68.89353435859866, 0.3328498046616847, 0.6541914105330675)\n",
            "(69.21341578123888, 0.24269209885338716, 0.7336624432054168)\n",
            "(70.66402516409299, 0.3675074198057098, 0.6441836972034661)\n",
            "(70.57339673399655, 0.45586570217389266, 0.5631823031876422)\n",
            "(69.65130616137739, 0.32806492664462616, 0.6580739500796529)\n",
            "(70.68553717919293, 0.2288915866245812, 0.6193984611725246)\n",
            "(69.45867717444249, 0.21341250988223742, 0.5712696062360794)\n",
            "(69.02548717367343, 0.3973493603545594, 0.6081955726333249)\n",
            "(72.40114621713691, 0.09582293753981264, 0.7060280402848773)\n",
            "(68.2550003746692, 0.1919252633023253, 0.7451671973613749)\n",
            "(70.48825582307668, 0.29953059693464223, 0.919082604673337)\n",
            "(68.80732555811286, 0.4756253537277664, 0.6483757131356718)\n",
            "(70.19661576528821, 0.036660233136584675, 0.5534766395639589)\n",
            "(70.11788346352299, 0.17828138111193675, 0.9120459179017197)\n",
            "(70.27932325140188, 0.41974827287790706, 0.8189197663121967)\n",
            "(70.31594234636773, 0.26274583256155504, 0.6571623797584144)\n",
            "(71.50075695358264, 0.24635078407257072, 0.874431331494474)\n",
            "(69.63471991561667, 0.24486833765490396, 0.6738772094007863)\n",
            "(68.43807251350172, 0.26184343666615295, 0.8704498589865634)\n",
            "(68.99880244793752, 0.3306577319114517, 0.8077242188052456)\n",
            "(69.53718895745774, 0.36972828240073485, 0.6608850466142506)\n",
            "(70.94731212808271, 0.21856315516948088, 0.6719197591542221)\n",
            "(69.41256170268838, 0.27847284488844826, 0.654775902904331)\n",
            "(69.81554114167366, 0.4129850484279622, 0.5476922785479069)\n",
            "(70.40002967753526, 0.24208085531419896, 0.6847575428382472)\n",
            "(71.11729555733143, 0.42196557263996515, 0.6672262341644014)\n",
            "(69.53228112300252, 0.35335100946820575, 0.7140260812761235)\n",
            "(70.73008017733724, 0.511539823263762, 0.6382406306634302)\n",
            "(71.3136588720975, 0.23002821294686449, 0.7106674745420398)\n",
            "(70.70628892748307, 0.37228916575125715, 0.8191649185033814)\n",
            "(70.90103900784062, 0.4856672449270875, 0.7777073617366317)\n",
            "(71.35882772211569, 0.3248621124719818, 0.7125072296355911)\n",
            "(70.36819293499863, 0.18393818410217247, 0.5896029182562964)\n",
            "(69.73527270555567, 0.2301934813387021, 0.8471867605755723)\n",
            "(69.53653022251272, 0.46185057570306454, 0.64946325970785)\n",
            "(68.65004927882143, 0.3013758693406881, 0.5894399031394744)\n",
            "(69.1958118137947, 0.1563227640641054, 0.6960078175162407)\n",
            "(70.9308924065867, 0.29418030225571884, 0.543857551205224)\n",
            "(70.22287807775237, 0.2620860690354478, 0.7353592159719307)\n",
            "(67.21938271690185, 0.3332264367194224, 0.7273359942230622)\n",
            "(69.8619520345281, 0.3176554776082557, 0.8282327712509739)\n",
            "(69.62202169268946, 0.13115581260135994, 0.7435736903628762)\n",
            "(69.31775417783447, 0.2529972244107732, 0.6413948483729573)\n",
            "(69.12950254247384, 0.25142682375768677, 0.7299403717017149)\n",
            "(69.73923829901256, 0.3728135455659002, 0.49274616699027796)\n",
            "(68.70001777092011, 0.24678523113796946, 0.811142389812857)\n",
            "(68.01010122802839, 0.15916154677237584, 0.6677038643960885)\n",
            "(71.18139716106215, 0.33800155321124203, 0.6537667644901021)\n",
            "(70.00274624792888, 0.4597255316232687, 0.5226207371242106)\n",
            "(70.36835514446051, 0.2667534267845985, 0.8256723990284215)\n",
            "(70.2120243916394, 0.05661896452415857, 0.8091926784201333)\n",
            "(70.17200740342646, 0.278238214384951, 0.7818697614395315)\n",
            "(68.14882032177013, 0.4599377847077024, 0.5101576774425974)\n",
            "(69.26060840898468, 0.2344455512772205, 0.8173161313366137)\n",
            "(71.28304124926407, 0.3412940790536305, 0.44680937316927316)\n",
            "(68.78858448258485, 0.3227720152876295, 0.846066106944455)\n",
            "(68.18829817491486, 0.2323848585722051, 0.6061918711220374)\n",
            "(70.40785000422447, 0.12250344374917116, 0.7662235427076827)\n",
            "(69.92177168727237, 0.47375056181339315, 0.7307594097135968)\n",
            "(70.7473428728328, 0.4003513997281307, 0.5834821847289865)\n",
            "(70.62620800748006, 0.3290384812913836, 0.594080960317111)\n",
            "(70.3688819897544, 0.3894373634595267, 0.6048263414757559)\n",
            "(73.11960543889468, 0.31764421815238386, 0.4512020023130586)\n",
            "(69.40122062369795, 0.3491556315871589, 0.8611413052695899)\n",
            "(69.35925154352124, 0.37193518808974085, 0.7763967666307953)\n",
            "(70.36048005581715, 0.2825204751348888, 0.8157488712464789)\n",
            "(69.58515308812987, 0.26145842814281217, 0.5740674814487301)\n",
            "(70.91946346560115, 0.17763525076359882, 0.6170727495001287)\n",
            "(70.52623562543545, 0.38700608277208604, 0.5966597679826375)\n",
            "(70.48726744061392, 0.1777268525951672, 0.6308972932352949)\n",
            "(71.5926050225573, 0.2228486361471967, 0.6930564159959058)\n",
            "(70.62890377479408, 0.031224945191539955, 0.6145371744035582)\n",
            "(70.1620333169696, 0.27291898041603674, 0.7997358400003614)\n",
            "(71.04698434694386, 0.29921751547174097, 0.7322627836120275)\n",
            "(71.21241159279577, 0.27646043033198, 0.42806723144255293)\n",
            "(71.35918919715452, 0.21067846960770426, 0.7426167735859968)\n",
            "(69.85645184265341, 0.2219507754780387, 0.7379518674978709)\n"
          ],
          "name": "stdout"
        }
      ]
    },
    {
      "cell_type": "markdown",
      "metadata": {
        "id": "vlNJ-55pBR2n"
      },
      "source": [
        "After completion of the programme, your MC chain will (*hopefully*) look something like this:\n",
        "\n",
        "`#Omega_m  Omega_L  h   \n",
        " 0.297     0.703    69.8\n",
        " 0.285     0.715    70.1\n",
        " 0.288     0.712    69.9\n",
        " ...\n",
        "`"
      ]
    },
    {
      "cell_type": "markdown",
      "metadata": {
        "id": "PGlpMLQ6BR2n"
      },
      "source": [
        "## <span style='color:deepskyblue'>Plotting: GetDist</span>\n",
        "\n",
        "We will do the plots with [`GetDist`](https://getdist.readthedocs.io/en/latest/plot_gallery.html).\n",
        "\n",
        "The plot gallery contains a lot of useful examples, you should be able to read them fairly easily and see which applies to your situation. Look for both (triangle) plots and for parameter estimation.\n",
        "\n",
        "Note that many `GetDist` functions require arguments of type `MCSamples`; make sure you convert your lists accordingly."
      ]
    },
    {
      "cell_type": "code",
      "metadata": {
        "id": "3_JKwHjXBR2o"
      },
      "source": [
        "import getdist, IPython\n",
        "from getdist import plots, MCSamples, loadMCSamples\n",
        "#print('Version: ',getdist.__version__)\n",
        "import numpy as np\n",
        "import pylab\n",
        "from random import random\n",
        "from random import gauss\n",
        "# If you want to use LaTeX in the labels. Not mandatory, but it looks nice ;)\n",
        "#pylab.rc('text',usetex=True) \n",
        "\n",
        "my_length = 1000;\n",
        "par1, par2 = [], []\n",
        "\n",
        "m1, m2, s1, s2 = random(), random(), random(), random()\n",
        "for i in range(my_length):\n",
        "    par1.append(gauss(m1, s1))\n",
        "    par2.append(gauss(m2, s2))\n",
        "\n",
        "par1 = np.array(par1)\n",
        "par2 = np.array(par2)\n",
        "par3 = (-0.5 + random()) * par1 + (-0.5 + random()) * par2\n",
        "\n",
        "my_labels = ['alpha', 'beta', 'gamma']\n",
        "my_names = ['name1', 'name2', 'name3']\n",
        "my_samples = np.array([par1, par2, par3])\n",
        "\n",
        "my_dim = 3\n",
        "\n",
        "my_samples = np.transpose(np.reshape(my_samples,(my_dim,int(my_samples.size/my_dim))))\n",
        "samples1 = MCSamples(samples = my_samples, labels = my_labels, names = my_names)\n",
        "\n",
        "#Triangle corner plot\n",
        "j = plots.getSubplotPlotter(subplot_size=3)\n",
        "j.settings.axes_labelsize = 22\n",
        "j.settings.axes_fontsize = 16\n",
        "j.triangle_plot(samples1, filled = True)"
      ],
      "execution_count": null,
      "outputs": []
    },
    {
      "cell_type": "code",
      "metadata": {
        "id": "xhhT6JfCBR2p",
        "colab": {
          "base_uri": "https://localhost:8080/",
          "height": 470
        },
        "outputId": "da3737b9-d050-471c-f7b7-87ea661ef058"
      },
      "source": [
        "# example of theoretical curves\n",
        "SPEED_OF_LIGHT = 299792.458 # in km/s\n",
        "\n",
        "# Still need to add Omega_k!\n",
        "def theor_luminosity_distance(z, h, OmegaM, OmegaL):\n",
        "    return 10.**6 * SPEED_OF_LIGHT / h * (1.+z) * \\\n",
        "    integrate.quad(lambda x: 1. / np.sqrt(OmegaM * (1.+x)**3 + OmegaL), 0., z)[0]\n",
        "\n",
        "def theor_distance_modulus(z, h, OmegaM, OmegaL):\n",
        "    return 5. * (-1. + np.log10(theor_luminosity_distance(z, h, OmegaM, OmegaL)))\n",
        "                 \n",
        "zsort = sorted(zs)\n",
        "d_best_fit, d_min, d_max = [], [], []\n",
        "\n",
        "# YOUR RESULTS GO HERE!\n",
        "for z in zsort:\n",
        "    d_best_fit.append(theor_distance_modulus(z, 70., 0.3, 0.7))\n",
        "    d_min.append(theor_distance_modulus(z, 75., 0.5, 0.5))\n",
        "    d_max.append(theor_distance_modulus(z, 65., 0.1, 0.9))\n",
        "    \n",
        "plt.subplots(figsize=(10, 7.5))\n",
        "plt.xlabel(\"Redshift\")\n",
        "plt.ylabel(\"Distance Modulus\")\n",
        "\n",
        "plt.errorbar(zs, dist_mod, yerr=err_dist_mod,\\\n",
        "             fmt='o', color='black', ecolor='darkcyan', markersize=4)\n",
        "plt.plot(zsort, d_best_fit, color='firebrick',linewidth=2.)\n",
        "plt.fill_between(zsort, d_min, d_max, color='grey', alpha=.2)\n",
        "plt.show()"
      ],
      "execution_count": null,
      "outputs": [
        {
          "output_type": "display_data",
          "data": {
            "image/png": "[encoded data removed]",
            "text/plain": [
              "<Figure size 720x540 with 1 Axes>"
            ]
          },
          "metadata": {
            "tags": [],
            "needs_background": "light"
          }
        }
      ]
    }
  ]
}