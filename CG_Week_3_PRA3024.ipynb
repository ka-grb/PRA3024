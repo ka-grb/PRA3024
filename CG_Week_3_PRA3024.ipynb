{
  "nbformat": 4,
  "nbformat_minor": 0,
  "metadata": {
    "colab": {
      "name": "CG - Week 3 - PRA3024.ipynb",
      "provenance": [],
      "collapsed_sections": [],
      "include_colab_link": true
    },
    "kernelspec": {
      "name": "python2",
      "display_name": "Python 2"
    },
    "accelerator": "GPU"
  },
  "cells": [
    {
      "cell_type": "markdown",
      "metadata": {
        "id": "view-in-github",
        "colab_type": "text"
      },
      "source": [
        "<a href=\"https://colab.research.google.com/github/ka-grb/PRA3024/blob/main/CG_Week_3_PRA3024.ipynb\" target=\"_parent\"><img src=\"https://colab.research.google.com/assets/colab-badge.svg\" alt=\"Open In Colab\"/></a>"
      ]
    },
    {
      "cell_type": "markdown",
      "metadata": {
        "id": "1JafiSIrvEKW"
      },
      "source": [
        "Welcome to Week 4!\n",
        "\n",
        "We will be focussing in Particle Physics Analysis and detecting matter/antimatter assymetries in the production of certain types of particles. ![LHCb detector](https://www1b.physik.rwth-aachen.de/~schael/LHCb_files/LHCB%20PREVIEW-white-bg.jpg)\n",
        "\n",
        "The data we are using comes from LHCb - one of the experiments at LHC. It is a highly specialised detector aimed at detecting decays involving the B-quark. Unlike the other major experiments, LHCb detects particles very close to the source and looks almost exclusively in the forward direction - this gives the detector many advantages compared to other experiments at LHC.\n",
        "\n",
        "In order to get started, we need to access the [ROOT framework](https://root.cern.ch/) and download some datafiles into this machine.\n",
        "\n",
        "If you are using Google Colab then you need to ensure that you are using Python 2:\n",
        "\n",
        "Before we start - we have to use Python2 (not Python 3), so we should choose this as an option in \"Runtime\" -> \"Change Runtime Type\" at the top or create a new notebook in Python2 by appending \"&runtime=python2\" to the URL."
      ]
    },
    {
      "cell_type": "code",
      "metadata": {
        "id": "vFclIR72w0mU",
        "colab": {
          "base_uri": "https://localhost:8080/"
        },
        "outputId": "7c4a52e1-9c10-4832-e8e2-b0532b08dd52"
      },
      "source": [
        "#Colab only\n",
        "#we are going to make a directory called APPS\n",
        "!mkdir -p APPS\n",
        "#Now we move to our directory called APPS and we download ROOT from the CERN server, this version is chosen because it runs on this machine - if you want to run this locally check the versions!\n",
        "!cd APPS && wget https://root.cern.ch/download/root_v6.13.08.Linux-ubuntu18-x86_64-gcc7.3.tar.gz \n",
        "#Now we extract our downloaded file:\n",
        "!cd APPS && tar -xf root_v6.13.08.Linux-ubuntu18-x86_64-gcc7.3.tar.gz\n"
      ],
      "execution_count": 31,
      "outputs": [
        {
          "output_type": "stream",
          "text": [
            "--2021-03-01 14:11:40--  https://root.cern.ch/download/root_v6.13.08.Linux-ubuntu18-x86_64-gcc7.3.tar.gz\n",
            "Resolving root.cern.ch (root.cern.ch)... 137.138.18.236, 2001:1458:201:ee::100:6\n",
            "Connecting to root.cern.ch (root.cern.ch)|137.138.18.236|:443... connected.\n",
            "HTTP request sent, awaiting response... 200 OK\n",
            "Length: 137415272 (131M) [application/x-gzip]\n",
            "Saving to: ‘root_v6.13.08.Linux-ubuntu18-x86_64-gcc7.3.tar.gz.1’\n",
            "\n",
            "root_v6.13.08.Linux 100%[===================>] 131.05M  29.8MB/s    in 5.1s    \n",
            "\n",
            "2021-03-01 14:11:46 (25.9 MB/s) - ‘root_v6.13.08.Linux-ubuntu18-x86_64-gcc7.3.tar.gz.1’ saved [137415272/137415272]\n",
            "\n"
          ],
          "name": "stdout"
        }
      ]
    },
    {
      "cell_type": "code",
      "metadata": {
        "id": "COPyXIvbxqht",
        "colab": {
          "base_uri": "https://localhost:8080/"
        },
        "outputId": "37db9087-72f4-4c25-8bfe-b3380a57b41f"
      },
      "source": [
        "#Colab only:\n",
        "#now we can extract some files from ROOT and ensure that we can access the libraries. We use some python key words to get access to the right files:\n",
        "\n",
        "import sys\n",
        "\n",
        "sys.path.append(\"/content/APPS/root/lib\")\n",
        "\n",
        "import ctypes\n",
        "\n",
        "\n",
        "ctypes.cdll.LoadLibrary('/content/APPS/root/lib/libCore.so')\n",
        "\n",
        "ctypes.cdll.LoadLibrary('/content/APPS/root/lib/libThread.so')\n",
        "\n",
        "ctypes.cdll.LoadLibrary('/content/APPS/root/lib/libImt.so')\n",
        "\n",
        "ctypes.cdll.LoadLibrary('/content/APPS/root/lib/libRIO.so')\n",
        "\n",
        "ctypes.cdll.LoadLibrary('/content/APPS/root/lib/libNet.so')\n",
        "\n",
        "ctypes.cdll.LoadLibrary('/content/APPS/root/lib/libTree.so')\n",
        "\n",
        "ctypes.cdll.LoadLibrary('/content/APPS/root/lib/libMathCore.so')\n",
        "\n",
        "ctypes.cdll.LoadLibrary('/content/APPS/root/lib/libMathMore.so')\n",
        "\n",
        "ctypes.cdll.LoadLibrary('/content/APPS/root/lib/libMatrix.so')\n",
        "\n",
        "ctypes.cdll.LoadLibrary('/content/APPS/root/lib/libHist.so')\n",
        "\n",
        "ctypes.cdll.LoadLibrary('/content/APPS/root/lib/libGraf.so')\n",
        "\n",
        "ctypes.cdll.LoadLibrary('/content/APPS/root/lib/libPyROOT.so')\n",
        "\n",
        "ctypes.cdll.LoadLibrary('/content/APPS/root/lib/libGpad.so')\n",
        "\n",
        "ctypes.cdll.LoadLibrary('/content/APPS/root/lib/libGraf3d.so')\n",
        "\n",
        "ctypes.cdll.LoadLibrary('/content/APPS/root/lib/libMultiProc.so')\n",
        "\n",
        "ctypes.cdll.LoadLibrary('/content/APPS/root/lib/libMinuit.so')\n",
        "\n",
        "ctypes.cdll.LoadLibrary('/content/APPS/root/lib/libFoam.so')"
      ],
      "execution_count": 32,
      "outputs": [
        {
          "output_type": "execute_result",
          "data": {
            "text/plain": [
              "<CDLL '/content/APPS/root/lib/libFoam.so', handle 55e2cbb50800 at 7f295d94d710>"
            ]
          },
          "metadata": {
            "tags": []
          },
          "execution_count": 32
        }
      ]
    },
    {
      "cell_type": "code",
      "metadata": {
        "id": "QTVz7NQMyDCb",
        "colab": {
          "base_uri": "https://localhost:8080/",
          "height": 589
        },
        "outputId": "b5f2caa0-db03-44ff-8b99-98318a38c18a"
      },
      "source": [
        "#Now we can check if we have everything working as we expect: \n",
        "#Import brings the ROOT framework into our python environment.\n",
        "import ROOT\n",
        "#We define a 1 dimensional histogram, with 100 bins which ranges from -4 to +4\n",
        "h = ROOT.TH1F(\"gauss\",\"Example histogram\",100,-4,4)\n",
        "#Fill the histogram with gaussian (random) distribution\n",
        "h.FillRandom(\"gaus\")\n",
        "#make a Canvas (i.e. a drawing)\n",
        "c = ROOT.TCanvas(\"myCanvasName\",\"The Canvas Title\",800,600)\n",
        "#Draw my histogram\n",
        "h.Draw()\n",
        "#Show me the canvas\n",
        "c.Draw()"
      ],
      "execution_count": 33,
      "outputs": [
        {
          "output_type": "display_data",
          "data": {
            "image/png": "[encoded data removed]",
            "text/plain": [
              "<IPython.core.display.Image object>"
            ]
          },
          "metadata": {
            "tags": []
          }
        }
      ]
    },
    {
      "cell_type": "markdown",
      "metadata": {
        "id": "VXW1M6XB0tXP"
      },
      "source": [
        "All being well - this should give no errors and we should have some kind of Gaussian distribution above.\n",
        "\n",
        "The next step is to get our data file - you can find it on Canvas here: https://maastrichtuniversity.instructure.com/courses/5826/files/553829?module_item_id=115201\n",
        "\n",
        "Then upload it either directly or to your Google Drive and then mount this to your Colab environment"
      ]
    },
    {
      "cell_type": "code",
      "metadata": {
        "colab": {
          "base_uri": "https://localhost:8080/"
        },
        "id": "Qe-ooAP2Hpon",
        "outputId": "0e7ba1bf-8883-4a33-f90f-17f95813bfde"
      },
      "source": [
        "from google.colab import drive\n",
        "drive.mount('/content/drive')"
      ],
      "execution_count": 35,
      "outputs": [
        {
          "output_type": "stream",
          "text": [
            "Drive already mounted at /content/drive; to attempt to forcibly remount, call drive.mount(\"/content/drive\", force_remount=True).\n"
          ],
          "name": "stdout"
        }
      ]
    },
    {
      "cell_type": "code",
      "metadata": {
        "id": "Co476pbmBvBB",
        "colab": {
          "base_uri": "https://localhost:8080/",
          "height": 557
        },
        "outputId": "bd6573c9-5bff-454b-aea1-1efa0e245ec4"
      },
      "source": [
        "#Since we need to use ROOT, we must first import this into Python:\n",
        "import ROOT\n",
        "#Then we open the ROOT file using the TFile command. - note you need to make this file path correct for your own setup!\n",
        "f = ROOT.TFile.Open(\"/content/drive/MyDrive/Colab Notebooks/B2HHH_MagnetUp.root\", \"READONLY\")\n",
        "#From our file, we have to extract the DecayTree \n",
        "tree=f.Get(\"data\")\n",
        "#Now we can grab some variables as a test:\n",
        "ymomentum = ROOT.RooRealVar(\"H1_PY\",\"H1 Y Momentum\",-3000,3000,\"MeV/c\")\n",
        "xmomentum = ROOT.RooRealVar(\"H1_PX\",\"H1 X Momentum\",-3000,3000,\"MeV/c\")\n",
        "zmomentum = ROOT.RooRealVar(\"H1_PZ\",\"H1 Z Momentum\",-3000,3000,\"MeV/c\")\n",
        "# We then create a dataset for us to play with\n",
        "data = ROOT.RooDataSet(\"data\",\"data set\", tree, ROOT.RooArgSet(xmomentum,ymomentum,zmomentum), \"1==1\")\n",
        "# Now we create a canvas, plot our data onto the canvas and draw it:\n",
        "c = ROOT.TCanvas(\"c\",\"c\")\n",
        "frame = xmomentum.frame()\n",
        "data.plotOn(frame)\n",
        "frame.Draw()\n",
        "c.Draw()"
      ],
      "execution_count": 36,
      "outputs": [
        {
          "output_type": "stream",
          "text": [
            "[#1] INFO:Eval -- RooAbsReal::attachToTree(H1_PX) TTree Float_t branch H1_PX will be converted to double precision\n",
            "[#1] INFO:Eval -- RooAbsReal::attachToTree(H1_PY) TTree Float_t branch H1_PY will be converted to double precision\n",
            "[#1] INFO:Eval -- RooAbsReal::attachToTree(H1_PZ) TTree Float_t branch H1_PZ will be converted to double precision\n",
            "[#1] INFO:Eval -- RooTreeDataStore::loadValues(data) Ignored 3305139 out of range events\n"
          ],
          "name": "stdout"
        },
        {
          "output_type": "display_data",
          "data": {
            "image/png": "[encoded data removed]",
            "text/plain": [
              "<IPython.core.display.Image object>"
            ]
          },
          "metadata": {
            "tags": []
          }
        }
      ]
    },
    {
      "cell_type": "markdown",
      "metadata": {
        "id": "4e4n4iS3IJZi"
      },
      "source": [
        "#Why are we here?\n",
        "\n",
        "This week is about finding out something about one of the fundemental questions in physics. Why do we have \"stuff\".\n",
        "\n",
        "According to many of our models, and according to many measurements in particle physics, matter and anti-matter appear to be produced in equal quantities.\n",
        "\n",
        "However, when one looks at the Universe in general, we have more matter than anti-matter left - so there need to be some processes where anti-matter and matter are not produced equally. You can find out more about the Matter/Anti-Matter Asymmetry [here](http://press.web.cern.ch/backgrounders/matterantimatter-asymmetry)\n",
        "\n",
        "One place we look for this asymetry is in [charge-partity (CP) violation](https://www.symmetrymagazine.org/article/october-2005/explain-it-in-60-seconds) in particle physics processes. This essentially says that the processes that happen in the anti-particle version of a decay do not **exactly** match to the processes that happen in the particle version of the decay.\n",
        "\n",
        "\n",
        "\n",
        "---\n",
        "\n",
        "\n",
        "\n",
        "At LHCb, we produce both particle of the  B<sup>+</sup> meson and it's antiparticle the B<sup>-</sup> meson.\n",
        "\n",
        "We cannot detect these mesons directly. They decay into other things before we have a chance to measure them properly. So we collect data on the decay products, often called daughter particles. There are 524 [documented](http://pdg.lbl.gov/2014/listings/rpp2014-list-B-plus-minus.pdf) ways that the B<sup>+/-</sup> decays into various combinations. In order to simplify the process, we choose decay combinations that are convenient or have particular properties.\n",
        "\n",
        "In this analysis, we will take the process:-\n",
        "\n",
        "B<sup>+</sup>->K<sup>+</sup> + K<sup>+</sup>  + K<sup>-</sup>\n",
        "\n",
        "or\n",
        "\n",
        "B<sup>-</sup>->K<sup>-</sup> + K<sup>-</sup>  + K<sup>+</sup>\n",
        "\n",
        "\n",
        "To do so, we are given the following data for each event in our system:-\n",
        "\n",
        "![alt text](https://raw.githubusercontent.com/lhcb/opendata-project/80d64a3796e593fc8f9b257e85f32ae2e54f131f/Images/Variables.png)\n",
        "\n",
        "Here, H1 is the detected daughter particle (so a Kaon or a Pion), **not** the B-meson - the mother particle. Normally we would have to do some reconstruction from the decay products (the Daughters) to the Mother to be able to make some conclusions.\n",
        "\n",
        "Let's get started with working with this data:"
      ]
    },
    {
      "cell_type": "markdown",
      "metadata": {
        "id": "LOhfj7kfP-ao"
      },
      "source": [
        "For our analysis, the momentum of each of the daughter particles is split into the three cartesian components. We have combined these into a variable called H1_Ptot"
      ]
    },
    {
      "cell_type": "code",
      "metadata": {
        "id": "Y4keyoyTPjsK"
      },
      "source": [
        "#Here make a plot of the Total momentum of each of the three daughters"
      ],
      "execution_count": null,
      "outputs": []
    },
    {
      "cell_type": "code",
      "metadata": {
        "colab": {
          "base_uri": "https://localhost:8080/",
          "height": 606
        },
        "id": "cMgWA3_NeGxJ",
        "outputId": "787b4dd2-50b9-4130-fcb8-0dddfe349ac4"
      },
      "source": [
        "c1 = ROOT.TCanvas(\"Momentum\", \"Momentum of daughter particles\",800,600) # New canvas for the momentum of daughter particles\r\n",
        "\r\n",
        "# Frames\r\n",
        "tree.Draw(\"H1_Ptot\"+\">>momentumH1(100,0,275000)\")\r\n",
        "tree.Draw(\"H2_Ptot\"+\">>momentumH2(200,0,275000)\")\r\n",
        "tree.Draw(\"H3_Ptot\"+\">>momentumH3(100,0,275000)\")\r\n",
        "\r\n",
        "# Getting the data\r\n",
        "plot1 = ROOT.gDirectory.Get(\"momentumH1\")\r\n",
        "plot2 = ROOT.gDirectory.Get(\"momentumH2\")\r\n",
        "plot3 = ROOT.gDirectory.Get(\"momentumH3\")\r\n",
        "\r\n",
        "# Features of plot\r\n",
        "# Colors of curves\r\n",
        "plot1.SetLineColor(1) \r\n",
        "plot2.SetLineColor(2)\r\n",
        "plot3.SetLineColor(4)\r\n",
        "plot1.SetTitle(\"Total momentum of the 3 daughters\") # Title of plot\r\n",
        "plot1.SetXTitle(\"Momentum\")\r\n",
        "plot1.SetYTitle(\"Number of events\")\r\n",
        "\r\n",
        "# Drawing the curves\r\n",
        "plot1.Draw()\r\n",
        "plot2.Draw('Same')\r\n",
        "plot3.Draw('Same')\r\n",
        "\r\n",
        "# Legend\r\n",
        "leg = ROOT.TLegend(0.15,0.9,0.3,0.8)\r\n",
        "leg.SetBorderSize(2)\r\n",
        "leg.SetFillColor(1)\r\n",
        "leg.SetFillStyle(0)\r\n",
        "leg.SetTextFont(42)\r\n",
        "leg.SetTextSize(0.025)\r\n",
        "leg.AddEntry(plot1,\"H1\",\"l\")\r\n",
        "leg.AddEntry(plot2,\"H2\",\"l\")\r\n",
        "leg.AddEntry(plot3,\"H3\",\"l\")\r\n",
        "leg.Draw()\r\n",
        "\r\n",
        "# Drawing on the canvas\r\n",
        "c1.Draw()"
      ],
      "execution_count": 37,
      "outputs": [
        {
          "output_type": "stream",
          "text": [
            "Warning in <TCanvas::Constructor>: Deleting canvas with same name: Momentum\n"
          ],
          "name": "stderr"
        },
        {
          "output_type": "display_data",
          "data": {
            "image/png": "[encoded data removed]",
            "text/plain": [
              "<IPython.core.display.Image object>"
            ]
          },
          "metadata": {
            "tags": []
          }
        }
      ]
    },
    {
      "cell_type": "markdown",
      "metadata": {
        "id": "C1lXLMCoR1Gi"
      },
      "source": [
        "Now plot the total momentum for the mother (M_Ptot)"
      ]
    },
    {
      "cell_type": "code",
      "metadata": {
        "id": "6kdbiNpPR1QG",
        "colab": {
          "base_uri": "https://localhost:8080/",
          "height": 606
        },
        "outputId": "168c3184-edf6-46a7-bdd8-f6befb4d9b18"
      },
      "source": [
        "#use the histogram plotting tools, plot the momentum of the mother\r\n",
        "c2 = ROOT.TCanvas(\"Momentum\",\"Momentum of mother particle\",800,600) # New canvas \r\n",
        "\r\n",
        "tree.Draw(\"M_Ptot\"+\">>momentumMum(100,0,275000)\") # Frame\r\n",
        "\r\n",
        "plot4 = ROOT.gDirectory.Get(\"momentumMum\") # Getting the data\r\n",
        "\r\n",
        "# Features of plot\r\n",
        "plot4.SetTitle(\"Total momentum of the mother particle\") # Title of plot\r\n",
        "plot4.SetXTitle(\"Momentum\")\r\n",
        "plot4.SetYTitle(\"Number of events\")\r\n",
        "\r\n",
        "plot4.Draw() # Drawing plot\r\n",
        "\r\n",
        "c2.Draw() # on canvas"
      ],
      "execution_count": 38,
      "outputs": [
        {
          "output_type": "stream",
          "text": [
            "Warning in <TCanvas::Constructor>: Deleting canvas with same name: Momentum\n"
          ],
          "name": "stderr"
        },
        {
          "output_type": "display_data",
          "data": {
            "image/png": "[encoded data removed]",
            "text/plain": [
              "<IPython.core.display.Image object>"
            ]
          },
          "metadata": {
            "tags": []
          }
        }
      ]
    },
    {
      "cell_type": "markdown",
      "metadata": {
        "id": "Gj5qv5kqSMIF"
      },
      "source": [
        "Let's take a look at the whole data file that is available to us by looking at one specific entry - number 45"
      ]
    },
    {
      "cell_type": "code",
      "metadata": {
        "id": "QMkih_6SSG8I",
        "colab": {
          "base_uri": "https://localhost:8080/"
        },
        "outputId": "764965c2-4836-460f-d571-75e18170a073"
      },
      "source": [
        "tree.Show(45)"
      ],
      "execution_count": null,
      "outputs": [
        {
          "output_type": "stream",
          "text": [
            "======> EVENT:45\n",
            " B_FlightDistance = 4.71407\n",
            " B_VertexChi2    = 11.5278\n",
            " H1_PX           = 133.376\n",
            " H1_PY           = -1293.52\n",
            " H1_PZ           = 33534.2\n",
            " H1_ProbK        = 0.00735235\n",
            " H1_ProbPi       = 0.204907\n",
            " H1_Charge       = 1\n",
            " H1_IPChi2       = 22.9885\n",
            " H1_isMuon       = 0\n",
            " H2_PX           = 518.943\n",
            " H2_PY           = -1966.2\n",
            " H2_PZ           = 52184.7\n",
            " H2_ProbK        = 0.00482044\n",
            " H2_ProbPi       = 0.266655\n",
            " H2_Charge       = -1\n",
            " H2_IPChi2       = 20.5652\n",
            " H2_isMuon       = 0\n",
            " H3_PX           = 1383.62\n",
            " H3_PY           = -2008.35\n",
            " H3_PZ           = 12154\n",
            " H3_ProbK        = 0.0800247\n",
            " H3_ProbPi       = 0.403711\n",
            " H3_Charge       = -1\n",
            " H3_IPChi2       = 1584.95\n",
            " H3_isMuon       = 0\n",
            " H1_Ptot         = 33559.4\n",
            " H1_type         = 1\n",
            " H1_E            = 33559.7\n",
            " H2_Ptot         = 52224.4\n",
            " H2_type         = 1\n",
            " H2_E            = 52224.5\n",
            " H3_Ptot         = 12396.2\n",
            " H3_type         = 1\n",
            " H3_E            = 12397\n",
            " M_Ptot          = 98035.7\n",
            " M_E             = 98181.3\n",
            " M_m0            = 5343.69\n"
          ],
          "name": "stdout"
        }
      ]
    },
    {
      "cell_type": "markdown",
      "metadata": {
        "id": "w3sqwtNTUEJd"
      },
      "source": [
        "We have now completed the initial steps and begun to work through what we need to with the data. This is a perfect moment to take a coffee!"
      ]
    },
    {
      "cell_type": "markdown",
      "metadata": {
        "id": "6RhWWqt3a8_e"
      },
      "source": [
        "Having discovered all of the relevant information about our daughter particles, we need to combine the measurements about them into a single mother - which will be our B<sup>+</sup> or our B<sup>-</sup>\r\n",
        "\r\n",
        "Having found our momentum and energy, we can use these quantities to find our experimental mass (not the theoretical mass as we have used for the reconstruction).\r\n",
        "\r\n",
        "When we calculate this, we will get a distribution of masses. This is due to errors in the measurements made either by the detector, or in the experiment itself. We hope to have a reasonably narrow peak to work with, but, sometimes this is not possible.\r\n",
        "\r\n",
        "Additionally there will be other particles in the detector - which means our daughters might have come from two or even three different processes. Events which don't come from the same process will give a higher or lower mass than we are looking for. This is typically called the *background* while events which come from our event of interest are called the *signal*"
      ]
    },
    {
      "cell_type": "code",
      "metadata": {
        "id": "onr7-8CMbbFf"
      },
      "source": [
        "#Now plot a histogram of the range of masses of the B meson.\r\n",
        "#Does this match what we would expect from theory?"
      ],
      "execution_count": null,
      "outputs": []
    },
    {
      "cell_type": "code",
      "metadata": {
        "colab": {
          "base_uri": "https://localhost:8080/",
          "height": 606
        },
        "id": "6ZvdD_SYaCsI",
        "outputId": "edb9fee5-6daf-4568-8e3f-0c5e063996eb"
      },
      "source": [
        "# Histogram\r\n",
        "c4 = ROOT.TCanvas(\"Mass\",\"Mass distribution\",800,600) # New canvas\r\n",
        "\r\n",
        "tree.Draw(\"M_m0\"+\">>mass distribution(100,1500,6500)\") # Frame\r\n",
        "\r\n",
        "plot6 = ROOT.gDirectory.Get(\"mass distribution\") # Getting the data\r\n",
        "\r\n",
        "# Plot features\r\n",
        "plot6.SetTitle(\"Histogram: Experimental mass\") # Title\r\n",
        "plot6.SetXTitle(\"Mass distribution (MeV/c^2\") # Title x axis\r\n",
        "plot6.SetYTitle(\"Number of events\") # Title y axis\r\n",
        "plot6.SetLineColor(1) # black color curve\r\n",
        "\r\n",
        "plot6.Draw() # Drawing plot\r\n",
        "\r\n",
        "c4.Draw() # on the canvas"
      ],
      "execution_count": 39,
      "outputs": [
        {
          "output_type": "stream",
          "text": [
            "Warning in <TCanvas::Constructor>: Deleting canvas with same name: Mass\n"
          ],
          "name": "stderr"
        },
        {
          "output_type": "display_data",
          "data": {
            "image/png": "[encoded data removed]",
            "text/plain": [
              "<IPython.core.display.Image object>"
            ]
          },
          "metadata": {
            "tags": []
          }
        }
      ]
    },
    {
      "cell_type": "code",
      "metadata": {
        "id": "JNHIAdNw3vJJ"
      },
      "source": [
        "# Given that a B-meson is in theory 5279 +- 0.15 MeV/c^2 - the peak is in our range\r\n",
        "# so not too far from theory"
      ],
      "execution_count": null,
      "outputs": []
    },
    {
      "cell_type": "markdown",
      "metadata": {
        "id": "MWGFKFnXb0RP"
      },
      "source": [
        "We know that some of our particles are the B+ and some are the B- particle. There will also be some particles in our system that are not coming from a genuine B+/- or are a B+/- but are not constructed from Kaons.\r\n",
        "\r\n",
        "We have some tools available to help:-\r\n",
        "\r\n",
        "  *  During detection, software attributes the probability of a particle being a Kaon or a Pion (in the H1_ProbK or H1_ProbPi variable)\r\n",
        "  * The detector also knows if the particle was a Muon - since it has detectors specifically for these. So it can attribute a 0 or a 1 to this probability\r\n",
        "  * The reconstructed vertex has a some kind of quality associated with it (we call this the Vertex χ2 (this is the variable B_VertexChi2). This is the statistical measure that determines how well we found a single point to be the source of all three particles.\r\n",
        "\r\n"
      ]
    },
    {
      "cell_type": "markdown",
      "metadata": {
        "id": "fEpnSmH4b9HZ"
      },
      "source": [
        "In order to get a better result, we should select our data to have the properties we desire and make some rules (often called a selection) to cut away data we don't want to include for various reasons. e.g. we know we don't have any muons in our decay - so any time H1/H2/H3 are a muon they should be excluded. The other variables are not so clear - so we can plot them to make a decision."
      ]
    },
    {
      "cell_type": "code",
      "metadata": {
        "id": "k0vikJp0cAvv"
      },
      "source": [
        "#Make plots of H1/H2/H3 _ProbK on one plot\r\n",
        "#Make plots of H1/H2/H3 _ProbPi on one plot\r\n",
        "#For all our particles, make a plot of the B_VertexChi2"
      ],
      "execution_count": null,
      "outputs": []
    },
    {
      "cell_type": "code",
      "metadata": {
        "colab": {
          "base_uri": "https://localhost:8080/",
          "height": 606
        },
        "id": "7N_wCYgG0Q_P",
        "outputId": "68c38d40-c8d0-4cdb-e5d8-da1e3a1df8cc"
      },
      "source": [
        "# Plot of probability of the daugther particles being Kaon particles\r\n",
        "\r\n",
        "c5 = ROOT.TCanvas(\"Probability\",\"Probability of Kaon\",800,600) # New canvas\r\n",
        "\r\n",
        "# Drawing\r\n",
        "tree.Draw(\"H1_ProbK\"+\">>ProbK_H1(100,0,1)\") \r\n",
        "tree.Draw(\"H2_ProbK\"+\">>ProbK_H2(100,0,1)\")\r\n",
        "tree.Draw(\"H3_ProbK\"+\">>ProbK_H3(100,0,1)\")\r\n",
        "\r\n",
        "# Getting the data for plotting features\r\n",
        "plot7 = ROOT.gDirectory.Get(\"ProbK_H1\")\r\n",
        "plot8 = ROOT.gDirectory.Get(\"ProbK_H2\")\r\n",
        "plot9 = ROOT.gDirectory.Get(\"ProbK_H3\")\r\n",
        "\r\n",
        "# Plot features\r\n",
        "plot7.SetLineColor(1) # Different colors\r\n",
        "plot8.SetLineColor(2)\r\n",
        "plot9.SetLineColor(4)\r\n",
        "plot7.SetTitle(\"Probability Kaon for daughter particles\") # Title\r\n",
        "plot7.SetXTitle(\"Probability range\") # Title x axis\r\n",
        "plot7.SetYTitle(\"Number of events\") # Title y axis\r\n",
        "\r\n",
        "# Plotting\r\n",
        "plot7.Draw()\r\n",
        "plot8.Draw('Same')\r\n",
        "plot9.Draw('Same')\r\n",
        "\r\n",
        "# Legend\r\n",
        "leg1 = ROOT.TLegend(0.15,0.9,0.3,0.8)\r\n",
        "leg1.SetBorderSize(2)\r\n",
        "leg1.SetFillColor(1)\r\n",
        "leg1.SetFillStyle(0)\r\n",
        "leg1.SetTextFont(42)\r\n",
        "leg1.SetTextSize(0.025)\r\n",
        "leg1.AddEntry(plot7,\"H1\",\"l\")\r\n",
        "leg1.AddEntry(plot8,\"H2\",\"l\")\r\n",
        "leg1.AddEntry(plot9,\"H3\",\"l\")\r\n",
        "leg1.Draw()\r\n",
        "\r\n",
        "c5.Draw() # on the canvas"
      ],
      "execution_count": 40,
      "outputs": [
        {
          "output_type": "stream",
          "text": [
            "Warning in <TCanvas::Constructor>: Deleting canvas with same name: Probability\n"
          ],
          "name": "stderr"
        },
        {
          "output_type": "display_data",
          "data": {
            "image/png": "[encoded data removed]",
            "text/plain": [
              "<IPython.core.display.Image object>"
            ]
          },
          "metadata": {
            "tags": []
          }
        }
      ]
    },
    {
      "cell_type": "code",
      "metadata": {
        "colab": {
          "base_uri": "https://localhost:8080/",
          "height": 606
        },
        "id": "ILcwZWA71oj-",
        "outputId": "284c541b-dba4-4334-816f-3d6775194f25"
      },
      "source": [
        "# Plot of probability of the daugther particles being Pion particles\r\n",
        "\r\n",
        "c6 = ROOT.TCanvas(\"Probability\",\"Probability of Pion\",800,600) # New canvas\r\n",
        "\r\n",
        "# Drawing\r\n",
        "tree.Draw(\"H1_ProbPi\"+\">>ProbPi_H1(100,0,1)\") \r\n",
        "tree.Draw(\"H2_ProbPi\"+\">>ProbPi_H2(100,0,1)\")\r\n",
        "tree.Draw(\"H3_ProbPi\"+\">>ProbPi_H3(100,0,1)\")\r\n",
        "\r\n",
        "# Getting the data for plotting features\r\n",
        "plot10 = ROOT.gDirectory.Get(\"ProbPi_H1\")\r\n",
        "plot11 = ROOT.gDirectory.Get(\"ProbPi_H2\")\r\n",
        "plot12 = ROOT.gDirectory.Get(\"ProbPi_H3\")\r\n",
        "\r\n",
        "# Plot features\r\n",
        "plot10.SetLineColor(1) # Different colors\r\n",
        "plot11.SetLineColor(2)\r\n",
        "plot12.SetLineColor(4)\r\n",
        "plot10.SetTitle(\"Probability Pion for daughter particles\") # Title\r\n",
        "plot10.SetXTitle(\"Probability range\") # Title x axis\r\n",
        "plot10.SetYTitle(\"Number of events\") # Title y axis\r\n",
        "\r\n",
        "# Plotting\r\n",
        "plot10.Draw()\r\n",
        "plot11.Draw('Same')\r\n",
        "plot12.Draw('Same')\r\n",
        "\r\n",
        "# Legend\r\n",
        "leg1 = ROOT.TLegend(0.2,0.9,0.3,0.8)\r\n",
        "leg1.SetBorderSize(2)\r\n",
        "leg1.SetFillColor(1)\r\n",
        "leg1.SetFillStyle(0)\r\n",
        "leg1.SetTextFont(42)\r\n",
        "leg1.SetTextSize(0.025)\r\n",
        "leg1.AddEntry(plot7,\"H1\",\"l\")\r\n",
        "leg1.AddEntry(plot8,\"H2\",\"l\")\r\n",
        "leg1.AddEntry(plot9,\"H3\",\"l\")\r\n",
        "leg1.Draw()\r\n",
        "\r\n",
        "c6.Draw() # on the canvas"
      ],
      "execution_count": 41,
      "outputs": [
        {
          "output_type": "stream",
          "text": [
            "Warning in <TCanvas::Constructor>: Deleting canvas with same name: Probability\n"
          ],
          "name": "stderr"
        },
        {
          "output_type": "display_data",
          "data": {
            "image/png": "[encoded data removed]",
            "text/plain": [
              "<IPython.core.display.Image object>"
            ]
          },
          "metadata": {
            "tags": []
          }
        }
      ]
    },
    {
      "cell_type": "code",
      "metadata": {
        "colab": {
          "base_uri": "https://localhost:8080/",
          "height": 606
        },
        "id": "YY8uXAsvkILN",
        "outputId": "fac09b3f-1734-4842-9aae-2766833dec42"
      },
      "source": [
        "# Plot of vertex chi squared\r\n",
        "\r\n",
        "c7 = ROOT.TCanvas(\"B_VertexChi2\",\"BVertexChi2\",800,600) # New canvas\r\n",
        "\r\n",
        "tree.Draw(\"B_VertexChi2\"+\">>vertex(1000,0,13)\") # Drawing\r\n",
        "\r\n",
        "plot13 = ROOT.gDirectory.Get(\"vertex\") # Getting the data for plotting features\r\n",
        "\r\n",
        "# Features of plot\r\n",
        "plot13.SetTitle(\"Vertex Chi squared for Beson\") # Title\r\n",
        "plot13.SetXTitle(\"Vertex Chi squared\") # Title\r\n",
        "plot13.SetYTitle(\"Number of events\") # Title\r\n",
        "\r\n",
        "plot13.Draw() # Drawing plot\r\n",
        "\r\n",
        "c7.Draw() # on the canvas"
      ],
      "execution_count": 42,
      "outputs": [
        {
          "output_type": "stream",
          "text": [
            "Warning in <TCanvas::Constructor>: Deleting canvas with same name: B_VertexChi2\n"
          ],
          "name": "stderr"
        },
        {
          "output_type": "display_data",
          "data": {
            "image/png": "[encoded data removed]",
            "text/plain": [
              "<IPython.core.display.Image object>"
            ]
          },
          "metadata": {
            "tags": []
          }
        }
      ]
    },
    {
      "cell_type": "markdown",
      "metadata": {
        "id": "DWmxBkZ0cDx1"
      },
      "source": [
        "Using these plots, we can now make a preselection string. This is a text string that looks like "
      ]
    },
    {
      "cell_type": "code",
      "metadata": {
        "id": "U1IGKyZXcGJP"
      },
      "source": [
        "#This example is for each daughter particle to have a Probability of being a Pion being more than 90% and H1 to not be a muon\r\n",
        "#This is not a good choice of selection - you should make your own :)\r\n",
        "#selection=(\"H1_ProbPi>0.9&H2_ProbPi>0.9&H3_ProbPi>0.9&!H1_isMuon&H2_isElectron&H3_isElephant\")\r\n",
        "selection=(\"H1_ProbK>0.9&H2_ProbK>0.9&H3_ProbK>0.9&!H1_isMuon\")"
      ],
      "execution_count": null,
      "outputs": []
    },
    {
      "cell_type": "code",
      "metadata": {
        "id": "MxD7JMeicMu0"
      },
      "source": [
        "#To apply the selection - we can use the copytree command:\r\n",
        "selection=(\"H1_ProbK>0.9\")\r\n",
        "CutTree=tree.CopyTree(selection)\r\n",
        "\r\n",
        "#So now we take our data in tree and apply selection to it (so only events which comply with those rules are kept) and put the new data in CutTree"
      ],
      "execution_count": null,
      "outputs": []
    },
    {
      "cell_type": "code",
      "metadata": {
        "colab": {
          "base_uri": "https://localhost:8080/",
          "height": 606
        },
        "id": "Fau8dlK8Yats",
        "outputId": "e0137a0b-fed6-4f4f-ae17-8140197bb07f"
      },
      "source": [
        "# Plot of selected data\r\n",
        "\r\n",
        "selection=(\"!H1_isMuon & !H2_isMuon & !H3_isMuon &  H1_ProbK > 0.75 & H2_ProbK > 0.75 & H3_ProbK > 0.75 \") # Selecting data\r\n",
        "# because we want more than 75% chance that the particle is a Kaon!\r\n",
        "CutTree=tree.CopyTree(selection) # Applying selection\r\n",
        "\r\n",
        "c8 = ROOT.TCanvas(\"Selection\",\"Selection\",800,600) # New canvas\r\n",
        "\r\n",
        "#Frame\r\n",
        "CutTree.Draw(\"M_m0\" + \">>mass distribution cut(2500,5000,6500)\")\r\n",
        "\r\n",
        "# Getting the data\r\n",
        "plot15 = ROOT.gDirectory.Get(\"mass distribution cut\")\r\n",
        "\r\n",
        "# Plotting features\r\n",
        "plot15.SetTitle(\"Selected Mass Distribution\")\r\n",
        "plot15.SetXTitle(\"Mass distribution (MeV/c^2)\")\r\n",
        "plot15.SetYTitle(\"Number of events\")\r\n",
        "\r\n",
        "# Drawing\r\n",
        "plot15.Draw()\r\n",
        "\r\n",
        "c8.Draw() # On the canvas"
      ],
      "execution_count": 43,
      "outputs": [
        {
          "output_type": "stream",
          "text": [
            "Warning in <TCanvas::Constructor>: Deleting canvas with same name: Selection\n"
          ],
          "name": "stderr"
        },
        {
          "output_type": "display_data",
          "data": {
            "image/png": "[encoded data removed]",
            "text/plain": [
              "<IPython.core.display.Image object>"
            ]
          },
          "metadata": {
            "tags": []
          }
        }
      ]
    },
    {
      "cell_type": "code",
      "metadata": {
        "id": "hmmsoUwEcOir"
      },
      "source": [
        "#Now as a good check, we should see the effect of applying our cuts.\r\n",
        "#On one histogram, plot the B meson mass, from both the tree (pre-cuts) and the CutTree (post-cuts)\r\n",
        "#What do you notice about your histogram now?"
      ],
      "execution_count": null,
      "outputs": []
    },
    {
      "cell_type": "code",
      "metadata": {
        "colab": {
          "base_uri": "https://localhost:8080/",
          "height": 606
        },
        "id": "WsM_0ehcXLSR",
        "outputId": "dc719a75-f92d-48f2-82f5-539efca9ec6b"
      },
      "source": [
        "# Plot of data pre and post cuts\r\n",
        "\r\n",
        "selection=(\"!H1_isMuon & !H2_isMuon & !H3_isMuon &  H1_ProbK > 0.75 & H2_ProbK > 0.75 & H3_ProbK > 0.75 \") # Selecting data\r\n",
        "CutTree=tree.CopyTree(selection) # Applying selection\r\n",
        "\r\n",
        "c9 = ROOT.TCanvas(\"Selection\",\"Selection\",800,600) # New canvas\r\n",
        "\r\n",
        "# Frames\r\n",
        "tree.Draw(\"M_m0\" + \">>mass distribution(5000,5000,6500)\")\r\n",
        "CutTree.Draw(\"M_m0\" + \">>mass distribution cut(5000,5000,6500)\")\r\n",
        "\r\n",
        "# Getting the data\r\n",
        "plot16 = ROOT.gDirectory.Get(\"mass distribution\")\r\n",
        "plot17 = ROOT.gDirectory.Get(\"mass distribution cut\")\r\n",
        "\r\n",
        "# Plot features\r\n",
        "plot16.SetTitle(\"Data pre and post cuts\")\r\n",
        "plot16.SetXTitle(\"Mass distribution (MeV/c^2)\")\r\n",
        "plot16.SetYTitle(\"Number of events\")\r\n",
        "\r\n",
        "# Drawing\r\n",
        "plot16.Draw()\r\n",
        "plot17.Draw('Same')\r\n",
        "\r\n",
        "c9.Draw() # On the canvas"
      ],
      "execution_count": 44,
      "outputs": [
        {
          "output_type": "stream",
          "text": [
            "Warning in <TCanvas::Constructor>: Deleting canvas with same name: Selection\n"
          ],
          "name": "stderr"
        },
        {
          "output_type": "display_data",
          "data": {
            "image/png": "[encoded data removed]",
            "text/plain": [
              "<IPython.core.display.Image object>"
            ]
          },
          "metadata": {
            "tags": []
          }
        }
      ]
    },
    {
      "cell_type": "code",
      "metadata": {
        "id": "4zFAf72S1V-3"
      },
      "source": [
        "# We notice that a lot of the events are gone - perhaps it was a good cut!"
      ],
      "execution_count": null,
      "outputs": []
    },
    {
      "cell_type": "markdown",
      "metadata": {
        "id": "N1tResqvcMgQ"
      },
      "source": [
        "#How do we count the number of events?\r\n",
        "\r\n",
        "We now have a histogram of events that we have reconstructed as a B meson. But some of these events are caused by a co-incidence of events which would still occur if there were no B mesons actually produced. We call this the background. Background and signal are indistinguishable now as the detector cannot tell the difference and our cuts were unable to remove the events for physics reasons. We can do some statistical analysis, if we know the approximate shapes of our signal and our background. Just like a least-squares fitting we can run a fit routine to minimise the error between the fitted curve and our data. As an example, if we know our data has an exponential background and a gaussian signal:\r\n",
        "\r\n",
        "![Gaussian+Exp Background](https://twiki.cern.ch/twiki/pub/RooStats/RooStatsTutorialsJune2013/GausExpModelFit.png)\r\n",
        "\r\n",
        "Here the red line represents our signal, the blue dotted line is our background and the solid blue line is our combined curve. The graph also shows the number of signal events and the number of background events. The signal now is a tiny fraction of the total data shown in the plot.\r\n",
        "\r\n",
        "In order to do this, we need to build a fit model, around which the software can try to fit our data.\r\n",
        "\r\n",
        "We use RooFit for this, which includes:\r\n",
        "* Gaussian\r\n",
        "* Exponential\r\n",
        "* Chebychev\r\n",
        "* Crystal Ball\r\n",
        "* Breit-Wigner\r\n",
        "\r\n",
        "As well as several other choices.\r\n",
        "\r\n",
        "Typically exponential and Chebychev functions are used for background and Gaussian, Crystal Ball and Breit-Wigner are used for signal. We can also combine them (e.g. 1 crystal ball, 1 gaussian, 1 exponential) in various ways."
      ]
    },
    {
      "cell_type": "code",
      "metadata": {
        "id": "R_7q_HY1qhiS"
      },
      "source": [
        "#define physical measurment that we want to fit using RooRealVar\r\n",
        "# var = ROOT.RooRealVar =(\"Variable from Python\", \"Nickname\",Min, Max, Units)\r\n",
        "mass = ROOT.RooRealVar(\"M_m0\",\"Mass\",4700,5900,\"MeV/C^{2}\") # change?\r\n",
        "\r\n",
        "#passing the rest of the variables into the model\r\n",
        "#For the RooRealVar the last three parameters are given, \"starting value\" and min/max values\r\n",
        "gaussMean = ROOT.RooRealVar(\"Mean\",\"Mean\",4800,4900,5900)\r\n",
        "gaussWidth = ROOT.RooRealVar(\"Width\",\"Width\",40,0,7000)\r\n",
        "\r\n",
        "#Now we have enough to make our Model for the signal:\r\n",
        "\r\n",
        "Gauss=ROOT.RooGaussian(\"Gaussian Signal\",\"Gauss\",mass,gaussMean,gaussWidth)\r\n",
        "Gauss_Norm= ROOT.RooRealVar(\"Gauss_Norm\",\"Signal Yield\", CutTree.GetEntries()/30, 0, CutTree.GetEntries() * 3) # CutTree: our selection\r\n",
        "#We also need a background, so let's use a (simple) exponential:\r\n",
        "\r\n",
        "exponent=ROOT.RooRealVar(\"exponent\", \"C\", -0.02, -2, +2)\r\n",
        "exp_Norm= ROOT.RooRealVar(\"exp_Norm\",\"Background Yield\", CutTree.GetEntries()/30, 0, CutTree.GetEntries() * 2) # CutTree\r\n",
        "\r\n",
        "#Define the  model for the background:\r\n",
        "\r\n",
        "Bkgnd=ROOT.RooExponential(\"Exponential Background\",\"Bkgnd\",mass,exponent)\r\n",
        "\r\n",
        "#Now we need to combine these two functions into a single PDF (probability density function)\r\n",
        "#and we need to add the normalisation factors at the end as scaling factors\r\n",
        "\r\n",
        "model=ROOT.RooAddPdf(\"Full Model\",\"model\",ROOT.RooArgList(Gauss,Bkgnd),ROOT.RooArgList(Gauss_Norm, exp_Norm) )"
      ],
      "execution_count": 45,
      "outputs": []
    },
    {
      "cell_type": "code",
      "metadata": {
        "id": "PL-qVvs-dw86",
        "colab": {
          "base_uri": "https://localhost:8080/"
        },
        "outputId": "ee23c259-ed5c-4d90-9f79-6e8fcf9fa376"
      },
      "source": [
        "#Put our data set into a RooDataSet structure\r\n",
        "\r\n",
        "data_to_fit=ROOT.RooDataSet(\"Data Set\",\"data_to_fit\", CutTree, ROOT.RooArgSet(mass))\r\n",
        "\r\n",
        "#Then we can do the fitting:\r\n",
        "\r\n",
        "model.fitTo(data_to_fit)\r\n",
        "\r\n",
        "#if everything went well, you will see the outputs of RooFit below"
      ],
      "execution_count": 46,
      "outputs": [
        {
          "output_type": "execute_result",
          "data": {
            "text/plain": [
              "<ROOT.RooFitResult object at 0x(nil)>"
            ]
          },
          "metadata": {
            "tags": []
          },
          "execution_count": 46
        },
        {
          "output_type": "stream",
          "text": [
            "[#1] INFO:Eval -- RooAbsReal::attachToTree(M_m0) TTree Float_t branch M_m0 will be converted to double precision\n",
            "[#1] INFO:Eval -- RooTreeDataStore::loadValues(Data Set) Ignored 123 out of range events\n",
            "[#1] INFO:Minization -- p.d.f. provides expected number of events, including extended term in likelihood.\n",
            "[#1] INFO:Minization -- RooMinimizer::optimizeConst: activating const optimization\n",
            "[#1] INFO:Minization --  The following expressions will be evaluated in cache-and-track mode: (Gaussian Signal,Exponential Background)\n",
            " **********\n",
            " **    1 **SET PRINT           1\n",
            " **********\n",
            " **********\n",
            " **    2 **SET NOGRAD\n",
            " **********\n",
            " PARAMETER DEFINITIONS:\n",
            "    NO.   NAME         VALUE      STEP SIZE      LIMITS\n",
            "     1 Gauss_Norm   1.12733e+02  5.63667e+01    0.00000e+00  1.01460e+04\n",
            "     2 Mean         4.90000e+03  1.00000e+02    4.90000e+03  5.90000e+03\n",
            " MINUIT WARNING IN PARAM DEF\n",
            " ============== STARTING VALUE IS AT LIMIT.\n",
            " MINUIT WARNING IN PARAMETR\n",
            " ============== VARIABLE2 IS AT ITS LOWER ALLOWED LIMIT.\n",
            " MINUIT WARNING IN PARAMETR\n",
            " ============== VARIABLE2 BROUGHT BACK INSIDE LIMITS.\n",
            "     3 Width        4.00000e+01  2.00000e+01    0.00000e+00  7.00000e+03\n",
            "     4 exp_Norm     1.12733e+02  5.63667e+01    0.00000e+00  6.76400e+03\n",
            "     5 exponent    -2.00000e-02  4.00000e-01   -2.00000e+00  2.00000e+00\n",
            " **********\n",
            " **    3 **SET ERR         0.5\n",
            " **********\n",
            " **********\n",
            " **    4 **SET PRINT           1\n",
            " **********\n",
            " **********\n",
            " **    5 **SET STR           1\n",
            " **********\n",
            " NOW USING STRATEGY  1: TRY TO BALANCE SPEED AGAINST RELIABILITY\n",
            " **********\n",
            " **    6 **MIGRAD        2500           1\n",
            " **********\n",
            " FIRST CALL TO USER FUNCTION AT NEW START POINT, WITH IFLAG=4.\n",
            " MINUIT WARNING IN MIGrad    \n",
            " ============== VARIABLE2 IS AT ITS LOWER ALLOWED LIMIT.\n",
            " START MIGRAD MINIMIZATION.  STRATEGY  1.  CONVERGENCE WHEN EDM .LT. 1.00e-03\n",
            " FCN=4471.78 FROM MIGRAD    STATUS=INITIATE      102 CALLS         103 TOTAL\n",
            "                     EDM= unknown      STRATEGY= 1      NO ERROR MATRIX       \n",
            "  EXT PARAMETER               CURRENT GUESS       STEP         FIRST   \n",
            "  NO.   NAME      VALUE            ERROR          SIZE      DERIVATIVE \n",
            "   1  Gauss_Norm   1.12733e+02   5.63667e+01   0.00000e+00  -1.60879e+04\n",
            "   2  Mean         5.35340e+03   1.00000e+02   1.03350e-01  -3.48615e+04\n",
            "   3  Width        4.00000e+01   2.00000e+01   0.00000e+00  -4.24088e+04\n",
            "   4  exp_Norm     1.12733e+02   5.63667e+01   0.00000e+00  -1.02023e+04\n",
            "   5  exponent    -1.46245e-04   4.00000e-01   0.00000e+00   3.20165e+04\n",
            "                               ERR DEF= 0.5\n",
            " MIGRAD MINIMIZATION HAS CONVERGED.\n",
            " MIGRAD WILL VERIFY CONVERGENCE AND ERROR MATRIX.\n",
            " COVARIANCE MATRIX CALCULATED SUCCESSFULLY\n",
            " FCN=-5409.52 FROM MIGRAD    STATUS=CONVERGED     358 CALLS         359 TOTAL\n",
            "                     EDM=5.28929e-06    STRATEGY= 1      ERROR MATRIX ACCURATE \n",
            "  EXT PARAMETER                                   STEP         FIRST   \n",
            "  NO.   NAME      VALUE            ERROR          SIZE      DERIVATIVE \n",
            "   1  Gauss_Norm   2.48725e+03   5.08367e+01   5.89189e-04  -5.97759e-03\n",
            "   2  Mean         5.28442e+03   3.86921e-01   4.03667e-05  -8.50933e-01\n",
            "   3  Width        1.82141e+01   3.11198e-01   4.38194e-05   7.56975e-01\n",
            "   4  exp_Norm     7.71738e+02   2.94776e+01   6.89522e-04  -2.58630e-02\n",
            "   5  exponent    -1.89462e-04   1.04105e-04   2.64354e-06  -3.94580e+01\n",
            "                               ERR DEF= 0.5\n",
            " EXTERNAL ERROR MATRIX.    NDIM=  25    NPAR=  5    ERR DEF=0.5\n",
            "  2.584e+03  1.422e-01  1.189e+00 -9.720e+01 -3.357e-06 \n",
            "  1.422e-01  1.497e-01  3.922e-03 -1.422e-01  4.291e-07 \n",
            "  1.189e+00  3.922e-03  9.684e-02 -1.189e+00  1.585e-08 \n",
            " -9.720e+01 -1.422e-01 -1.189e+00  8.690e+02  3.362e-06 \n",
            " -3.357e-06  4.291e-07  1.585e-08  3.362e-06  1.084e-08 \n",
            " PARAMETER  CORRELATION COEFFICIENTS  \n",
            "       NO.  GLOBAL      1      2      3      4      5\n",
            "        1  0.09358   1.000  0.007  0.075 -0.065 -0.001\n",
            "        2  0.03553   0.007  1.000  0.033 -0.012  0.011\n",
            "        3  0.14901   0.075  0.033  1.000 -0.130  0.000\n",
            "        4  0.14113  -0.065 -0.012 -0.130  1.000  0.001\n",
            "        5  0.01075  -0.001  0.011  0.000  0.001  1.000\n",
            " **********\n",
            " **    7 **SET ERR         0.5\n",
            " **********\n",
            " **********\n",
            " **    8 **SET PRINT           1\n",
            " **********\n",
            " **********\n",
            " **    9 **HESSE        2500\n",
            " **********\n",
            " COVARIANCE MATRIX CALCULATED SUCCESSFULLY\n",
            " FCN=-5409.52 FROM HESSE     STATUS=OK             31 CALLS         390 TOTAL\n",
            "                     EDM=5.29104e-06    STRATEGY= 1      ERROR MATRIX ACCURATE \n",
            "  EXT PARAMETER                                INTERNAL      INTERNAL  \n",
            "  NO.   NAME      VALUE            ERROR       STEP SIZE       VALUE   \n",
            "   1  Gauss_Norm   2.48725e+03   5.08372e+01   2.35676e-05  -5.34846e-01\n",
            "   2  Mean         5.28442e+03   3.86914e-01   8.07334e-06   3.37485e+00\n",
            "   3  Width        1.82141e+01   3.11201e-01   8.76387e-06  -1.46873e+00\n",
            "   4  exp_Norm     7.71738e+02   2.94783e+01   1.37904e-04  -8.81683e-01\n",
            "   5  exponent    -1.89462e-04   1.04105e-04   5.28708e-07  -9.47309e-05\n",
            "                               ERR DEF= 0.5\n",
            " EXTERNAL ERROR MATRIX.    NDIM=  25    NPAR=  5    ERR DEF=0.5\n",
            "  2.585e+03  1.421e-01  1.191e+00 -9.729e+01 -3.628e-06 \n",
            "  1.421e-01  1.497e-01  3.856e-03 -1.421e-01  4.286e-07 \n",
            "  1.191e+00  3.856e-03  9.685e-02 -1.190e+00  1.229e-08 \n",
            " -9.729e+01 -1.421e-01 -1.190e+00  8.690e+02  3.628e-06 \n",
            " -3.628e-06  4.286e-07  1.229e-08  3.628e-06  1.084e-08 \n",
            " PARAMETER  CORRELATION COEFFICIENTS  \n",
            "       NO.  GLOBAL      1      2      3      4      5\n",
            "        1  0.09368   1.000  0.007  0.075 -0.065 -0.001\n",
            "        2  0.03504   0.007  1.000  0.032 -0.012  0.011\n",
            "        3  0.14907   0.075  0.032  1.000 -0.130  0.000\n",
            "        4  0.14130  -0.065 -0.012 -0.130  1.000  0.001\n",
            "        5  0.01075  -0.001  0.011  0.000  0.001  1.000\n",
            "[#1] INFO:Minization -- RooMinimizer::optimizeConst: deactivating const optimization\n"
          ],
          "name": "stdout"
        }
      ]
    },
    {
      "cell_type": "code",
      "metadata": {
        "id": "bUhgxlRGd4XO",
        "colab": {
          "base_uri": "https://localhost:8080/",
          "height": 540
        },
        "outputId": "62b1c581-1a3e-49d2-ae4f-81c89267d6df"
      },
      "source": [
        "#Now to plot it all\r\n",
        "c10=ROOT.TCanvas(\"c10\",\"c10\")\r\n",
        "frame=mass.frame()\r\n",
        "data_to_fit.plotOn(frame)\r\n",
        "model.plotOn(frame, ROOT.RooFit.Components(\"Gauss\"),ROOT.RooFit.LineColor(8),ROOT.RooFit.LineStyle(2))\r\n",
        "model.plotOn(frame, ROOT.RooFit.Components(\"Bkgnd\"),ROOT.RooFit.LineColor(46),ROOT.RooFit.LineStyle(2))\r\n",
        "model.plotOn(frame)\r\n",
        "frame.Draw()\r\n",
        "c10.Update()\r\n",
        "c10.Draw()\r\n"
      ],
      "execution_count": 47,
      "outputs": [
        {
          "output_type": "stream",
          "text": [
            "[#0] ERROR:Plotting -- RooAbsPdf::plotOn(Full Model) ERROR: component selection expression 'Gauss' does not select any components of p.d.f.\n",
            "[#0] ERROR:Plotting -- RooAbsPdf::plotOn(Full Model) ERROR: component selection expression 'Bkgnd' does not select any components of p.d.f.\n"
          ],
          "name": "stdout"
        },
        {
          "output_type": "stream",
          "text": [
            "Warning in <TCanvas::Constructor>: Deleting canvas with same name: c10\n"
          ],
          "name": "stderr"
        },
        {
          "output_type": "display_data",
          "data": {
            "image/png": "[encoded data removed]",
            "text/plain": [
              "<IPython.core.display.Image object>"
            ]
          },
          "metadata": {
            "tags": []
          }
        }
      ]
    },
    {
      "cell_type": "code",
      "metadata": {
        "colab": {
          "base_uri": "https://localhost:8080/"
        },
        "id": "og-NjogE0WK6",
        "outputId": "64919c8a-d4e4-46bd-d457-2199cd357d90"
      },
      "source": [
        "# Errors\r\n",
        "signal = Gauss_Norm.getValV()\r\n",
        "print'the signal yield is', signal\r\n",
        "error = Gauss_Norm.getError()\r\n",
        "print'the error is', error\r\n",
        "\r\n",
        "# goodness of fit\r\n",
        "chi2 = frame.chiSquare()\r\n",
        "print'chisquare is', chi2"
      ],
      "execution_count": 48,
      "outputs": [
        {
          "output_type": "stream",
          "text": [
            "the signal yield is 2487.24964636\n",
            "the error is 50.8372109629\n",
            "chisquare is 4.67443787253\n"
          ],
          "name": "stdout"
        }
      ]
    },
    {
      "cell_type": "markdown",
      "metadata": {
        "id": "60b4bs1od4M_"
      },
      "source": [
        "Using this structure, you can in theory build whatever models you like!\r\n",
        "\r\n",
        "Some recommendations (but not necessary to do all):-\r\n",
        "\r\n",
        "\r\n",
        "\r\n",
        "*   Gauss+Exponential (as above)\r\n",
        "*   Crystal Ball + Exponential\r\n",
        "*   Gauss+Crystal Ball+Exponential (now you need to weigh the two signal peaks and then the total signal against total background)\r\n",
        "*   Gauss+Chebychev\r\n",
        "*   Two Crystal Balls + Exponential"
      ]
    },
    {
      "cell_type": "markdown",
      "metadata": {
        "id": "vHivSaH1dwy7"
      },
      "source": [
        "So how good was the fit, and how many events do you have?\r\n",
        "\r\n",
        "We can use the .getValV() function on our signal and background *normalisation* components, e.g. Gauss_Norm=Gauss.getValV()\r\n",
        "\r\n",
        "To find the error (on this number) we can use .getError()\r\n",
        "\r\n",
        "Neither of these measures would tell us if this was a good fit or not. Normally we use a χ2 test to do so - this is built into the image we made (so we can do frame.chiSquare() to get this data)\r\n",
        "\r\n",
        "For each model you made, print the signal and background yields (with errors) and report the χ2"
      ]
    },
    {
      "cell_type": "code",
      "metadata": {
        "id": "G8f1bsas8fWI"
      },
      "source": [
        "# Crystal Ball (signal) + exponential (background)"
      ],
      "execution_count": null,
      "outputs": []
    },
    {
      "cell_type": "code",
      "metadata": {
        "id": "_KHInz8YnMg8"
      },
      "source": [
        "#define physical measurment that we want to fit using RooRealVar\r\n",
        "# var = ROOT.RooRealVar =(\"Variable from Python\", \"Nickname\",Min, Max, Units)\r\n",
        "mass = ROOT.RooRealVar(\"M_m0\",\"Mass\",5000,5500,\"MeV/C^{2}\")\r\n",
        "\r\n",
        "#passing the rest of the variables into the model\r\n",
        "#For the RooRealVar the last three parameters are given, \"starting value\" and min/max values\r\n",
        "gaussMean = ROOT.RooRealVar(\"Mean\",\"Mean\",5300,5200,5350) \r\n",
        "gaussWidth = ROOT.RooRealVar(\"Width\",\"Width\",40,0,7000) \r\n",
        "\r\n",
        "# RooRealVar() for the Crystal Ball\r\n",
        "CBmean = ROOT.RooRealVar(\"Mean\",\"Mean\", 5200, 5100, 5350) \r\n",
        "CBwidth = ROOT.RooRealVar(\"Width\", \"Width\", 20, 0, 60) \r\n",
        "CBalpha = ROOT.RooRealVar(\"Alpha\",\"Alpha\", 10, 0, 25) \r\n",
        "CBn = ROOT.RooRealVar(\"n\",\"n\", 2, 0, 8) \r\n",
        "\r\n",
        "#Now we have enough to make our Model for the signal:\r\n",
        "\r\n",
        "CB = ROOT.RooCBShape(\"Crystal Ball Signal\", \"CB\",mass, CBmean, CBwidth, CBalpha, CBn)\r\n",
        "CB_Norm= ROOT.RooRealVar(\"CB_Norm\",\"Signal Yield\", CutTree.GetEntries()/30, 0, CutTree.GetEntries() * 3) #CutTree\r\n",
        "#We also need a background, so let's use a (simple) exponential:\r\n",
        "\r\n",
        "exponent=ROOT.RooRealVar(\"exponent\", \"C\", -0.02, -2, +2)\r\n",
        "exp_Norm= ROOT.RooRealVar(\"exp_Norm\",\"Background Yield\", CutTree.GetEntries()/30, 0, CutTree.GetEntries() * 2) #CutTree\r\n",
        "\r\n",
        "#Define the  model for the background:\r\n",
        "\r\n",
        "Bkgnd=ROOT.RooExponential(\"Exponential Background\",\"Bkgnd\",mass,exponent)\r\n",
        "\r\n",
        "#Now we need to combine these two functions into a single PDF (probability density function)\r\n",
        "#and we need to add the normalisation factors at the end as scaling factors\r\n",
        "\r\n",
        "# combining signal + background\r\n",
        "combine_norm=ROOT.RooRealVar(\"combined norm\", \"combined_norm\", 0.5, 0, 1)\r\n",
        "combined_signal=ROOT.RooAddPdf(\"Combined Signal\", \"combined_signal\", Gauss, CB, combine_norm)\r\n",
        "combined_signal_norm=ROOT.RooRealVar(\"combined_signal_norm\",\"combined signal norm\", CutTree.GetEntries()/30, 0, CutTree.GetEntries() * 3)"
      ],
      "execution_count": 52,
      "outputs": []
    },
    {
      "cell_type": "code",
      "metadata": {
        "colab": {
          "base_uri": "https://localhost:8080/"
        },
        "id": "ZXKkOUhunNaN",
        "outputId": "55dabdf1-46dc-40e5-cdac-41182506f2ce"
      },
      "source": [
        "#Put our data set into a RooDataSet structure\r\n",
        "\r\n",
        "model=ROOT.RooAddPdf(\"Full Model\",\"model\",ROOT.RooArgList(combined_signal, Bkgnd),ROOT.RooArgList(combined_signal_norm, exp_Norm) ) # combining \r\n",
        "data_to_fit=ROOT.RooDataSet(\"Data Set\",\"data_to_fit\", CutTree, ROOT.RooArgSet(mass))\r\n",
        "\r\n",
        "#Then we can do the fitting:\r\n",
        "\r\n",
        "model.fitTo(data_to_fit)\r\n",
        "\r\n",
        "#if everything went well, you will see the outputs of RooFit below"
      ],
      "execution_count": 53,
      "outputs": [
        {
          "output_type": "execute_result",
          "data": {
            "text/plain": [
              "<ROOT.RooFitResult object at 0x(nil)>"
            ]
          },
          "metadata": {
            "tags": []
          },
          "execution_count": 53
        },
        {
          "output_type": "stream",
          "text": [
            "[#1] INFO:Eval -- RooAbsReal::attachToTree(M_m0) TTree Float_t branch M_m0 will be converted to double precision\n",
            "[#1] INFO:Eval -- RooTreeDataStore::loadValues(Data Set) Ignored 272 out of range events\n",
            "[#1] INFO:Minization -- p.d.f. provides expected number of events, including extended term in likelihood.\n",
            "[#1] INFO:Minization -- RooMinimizer::optimizeConst: activating const optimization\n",
            "[#1] INFO:Minization --  The following expressions will be evaluated in cache-and-track mode: (Crystal Ball Signal,Exponential Background)\n",
            " **********\n",
            " **   11 **SET PRINT           1\n",
            " **********\n",
            " **********\n",
            " **   12 **SET NOGRAD\n",
            " **********\n",
            " PARAMETER DEFINITIONS:\n",
            "    NO.   NAME         VALUE      STEP SIZE      LIMITS\n",
            "     1 Alpha        1.00000e+01  2.50000e+00    0.00000e+00  2.50000e+01\n",
            "     2 Mean         5.20000e+03  2.50000e+01    5.10000e+03  5.35000e+03\n",
            "     3 Width        2.00000e+01  6.00000e+00    0.00000e+00  6.00000e+01\n",
            "     4 combined norm   5.00000e-01  1.00000e-01    0.00000e+00  1.00000e+00\n",
            "     5 combined_signal_norm   1.12733e+02  5.63667e+01    0.00000e+00  1.01460e+04\n",
            "     6 exp_Norm     1.12733e+02  5.63667e+01    0.00000e+00  6.76400e+03\n",
            "     7 exponent    -2.00000e-02  4.00000e-01   -2.00000e+00  2.00000e+00\n",
            "     8 n            2.00000e+00  8.00000e-01    0.00000e+00  8.00000e+00\n",
            " **********\n",
            " **   13 **SET ERR         0.5\n",
            " **********\n",
            " **********\n",
            " **   14 **SET PRINT           1\n",
            " **********\n",
            " **********\n",
            " **   15 **SET STR           1\n",
            " **********\n",
            " NOW USING STRATEGY  1: TRY TO BALANCE SPEED AGAINST RELIABILITY\n",
            " **********\n",
            " **   16 **MIGRAD        4000           1\n",
            " **********\n",
            " FIRST CALL TO USER FUNCTION AT NEW START POINT, WITH IFLAG=4.\n",
            " START MIGRAD MINIMIZATION.  STRATEGY  1.  CONVERGENCE WHEN EDM .LT. 1.00e-03\n",
            " FCN=1055.04 FROM MIGRAD    STATUS=INITIATE      507 CALLS         508 TOTAL\n",
            "                     EDM= unknown      STRATEGY= 1      NO ERROR MATRIX       \n",
            "  EXT PARAMETER               CURRENT GUESS       STEP         FIRST   \n",
            "  NO.   NAME      VALUE            ERROR          SIZE      DERIVATIVE \n",
            "   1  Alpha        1.00000e+01   2.50000e+00   0.00000e+00  -7.48789e-03\n",
            "   2  Mean         5.28603e+03   2.50000e+01   0.00000e+00   5.17623e+02\n",
            "   3  Width        2.00000e+01   6.00000e+00   0.00000e+00   9.47152e+02\n",
            "   4  combined norm   5.00000e-01   1.00000e-01   0.00000e+00   1.96262e+03\n",
            "   5  combined_signal_norm   1.12733e+02   5.63667e+01   0.00000e+00  -1.74518e+04\n",
            "   6  exp_Norm     1.12733e+02   5.63667e+01   0.00000e+00  -7.94726e+03\n",
            "   7  exponent    -1.76812e-03   4.00000e-01   0.00000e+00  -2.96426e+04\n",
            "   8  n            2.00000e+00   8.00000e-01   0.00000e+00   0.00000e+00\n",
            "                               ERR DEF= 0.5\n",
            " MIGRAD MINIMIZATION HAS CONVERGED.\n",
            " FCN=-6121.79 FROM MIGRAD    STATUS=CONVERGED     687 CALLS         688 TOTAL\n",
            "                     EDM=1.91423e-05    STRATEGY= 1  ERROR MATRIX UNCERTAINTY   0.2 per cent\n",
            "  EXT PARAMETER                                   STEP         FIRST   \n",
            "  NO.   NAME      VALUE            ERROR          SIZE      DERIVATIVE \n",
            "   1  Alpha        1.40952e+01   1.53996e+01  -1.62313e-05   0.00000e+00\n",
            "   2  Mean         5.28464e+03   3.83148e-01   1.42843e-05   1.24413e-01\n",
            "   3  Width        1.75559e+01   3.12696e-01  -3.71923e-05   8.94550e-02\n",
            "   4  combined norm   2.76655e-09   1.94178e-04   4.14186e-04** at limit **\n",
            "   5  combined_signal_norm   2.42726e+03   4.97652e+01  -1.41250e-04  -3.68023e-01\n",
            "   6  exp_Norm     6.82531e+02   3.00366e+01   1.13214e-04  -1.47554e-02\n",
            "   7  exponent    -3.08024e-03   2.90684e-04  -4.40670e-06   2.34167e+01\n",
            "   8  n            2.00000e+00   2.91494e+00  -0.00000e+00   0.00000e+00\n",
            "                               ERR DEF= 0.5\n",
            " EXTERNAL ERROR MATRIX.    NDIM=  25    NPAR=  8    ERR DEF=0.5\n",
            "  5.132e+03 -8.522e-05  1.978e-03 -1.378e-09  6.148e-01  6.458e-03  5.538e-08  0.000e+00 \n",
            " -8.522e-05  1.468e-01 -5.210e-03  4.546e-09  9.911e-02  2.148e-02 -3.185e-06  0.000e+00 \n",
            "  1.978e-03 -5.210e-03  9.778e-02 -5.327e-10  1.621e+00 -1.528e+00 -1.165e-05  0.000e+00 \n",
            " -1.378e-09  4.546e-09 -5.327e-10  2.149e-12  6.044e-06 -1.373e-06 -2.964e-11  0.000e+00 \n",
            "  6.148e-01  9.911e-02  1.621e+00  6.044e-06  2.477e+03 -1.802e+02 -4.575e-04  0.000e+00 \n",
            "  6.458e-03  2.148e-02 -1.528e+00 -1.373e-06 -1.802e+02  9.023e+02  1.298e-03  0.000e+00 \n",
            "  5.538e-08 -3.185e-06 -1.165e-05 -2.964e-11 -4.575e-04  1.298e-03  8.450e-08  0.000e+00 \n",
            "  0.000e+00  0.000e+00  0.000e+00  0.000e+00  0.000e+00  0.000e+00  0.000e+00  1.200e+01 \n",
            " PARAMETER  CORRELATION COEFFICIENTS  \n",
            "       NO.  GLOBAL      1      2      3      4      5      6      7      8\n",
            "        1  0.00019   1.000 -0.000  0.000 -0.000  0.000  0.000  0.000  0.000\n",
            "        2  0.05644  -0.000  1.000 -0.043  0.008  0.005  0.002 -0.029  0.000\n",
            "        3  0.21698   0.000 -0.043  1.000 -0.001  0.104 -0.163 -0.128  0.000\n",
            "        4  0.10916  -0.000  0.008 -0.001  1.000  0.083 -0.031 -0.070  0.000\n",
            "        5  0.16822   0.000  0.005  0.104  0.083  1.000 -0.121 -0.032  0.000\n",
            "        6  0.23160   0.000  0.002 -0.163 -0.031 -0.121  1.000  0.149  0.000\n",
            "        7  0.19651   0.000 -0.029 -0.128 -0.070 -0.032  0.149  1.000  0.000\n",
            "        8  0.00000   0.000  0.000  0.000  0.000  0.000  0.000  0.000  1.000\n",
            " **********\n",
            " **   17 **SET ERR         0.5\n",
            " **********\n",
            " **********\n",
            " **   18 **SET PRINT           1\n",
            " **********\n",
            " **********\n",
            " **   19 **HESSE        4000\n",
            " **********\n",
            " MINUIT WARNING IN HESSE\n",
            " ============== Second derivative enters zero, param 1\n",
            " MINUIT WARNING IN HESSE\n",
            " ============== Second derivative zero for parameter1\n",
            "  MNHESS FAILS AND WILL RETURN DIAGONAL MATRIX. \n",
            " FCN=-6121.79 FROM HESSE     STATUS=FAILED          3 CALLS         691 TOTAL\n",
            "                     EDM=1.91423e-05    STRATEGY= 1  ERROR MATRIX UNCERTAINTY 100.0 per cent\n",
            "  EXT PARAMETER                APPROXIMATE     INTERNAL      INTERNAL  \n",
            "  NO.   NAME      VALUE            ERROR       STEP SIZE       VALUE   \n",
            "   1  Alpha        7.95606e+00   1.64676e+01  -1.62313e-05   1.27962e-01\n",
            "   2  Mean         5.28464e+03   3.83783e-01   1.42843e-05   4.97391e-01\n",
            "   3  Width        1.75559e+01   3.03748e-01  -3.71923e-05  -4.27727e-01\n",
            "   4  combined norm   2.76655e-09   2.05962e-04   4.14186e-04  -1.57069e+00\n",
            "                                 WARNING -   - ABOVE PARAMETER IS AT LIMIT.\n",
            "   5  combined_signal_norm   2.42726e+03   5.04031e+01  -1.41250e-04  -5.48648e-01\n",
            "   6  exp_Norm     6.82531e+02   2.84844e+01   1.13214e-04  -9.24280e-01\n",
            "   7  exponent    -3.08024e-03   2.93270e-04  -4.40670e-06  -1.54012e-03\n",
            "   8  n            2.00000e+00   2.91494e+00  -0.00000e+00  -5.23599e-01\n",
            "                               ERR DEF= 0.5\n",
            " EXTERNAL ERROR MATRIX.    NDIM=  25    NPAR=  8    ERR DEF=0.5\n",
            "  4.743e+02  0.000e+00  0.000e+00  0.000e+00  0.000e+00  0.000e+00  0.000e+00  0.000e+00 \n",
            "  0.000e+00  1.473e-01  0.000e+00  0.000e+00  0.000e+00  0.000e+00  0.000e+00  0.000e+00 \n",
            "  0.000e+00  0.000e+00  9.227e-02  0.000e+00  0.000e+00  0.000e+00  0.000e+00  0.000e+00 \n",
            "  0.000e+00  0.000e+00  0.000e+00  2.279e-12  0.000e+00  0.000e+00  0.000e+00  0.000e+00 \n",
            "  0.000e+00  0.000e+00  0.000e+00  0.000e+00  2.541e+03  0.000e+00  0.000e+00  0.000e+00 \n",
            "  0.000e+00  0.000e+00  0.000e+00  0.000e+00  0.000e+00  8.114e+02  0.000e+00  0.000e+00 \n",
            "  0.000e+00  0.000e+00  0.000e+00  0.000e+00  0.000e+00  0.000e+00  8.601e-08  0.000e+00 \n",
            "  0.000e+00  0.000e+00  0.000e+00  0.000e+00  0.000e+00  0.000e+00  0.000e+00  1.200e+01 \n",
            "ERR MATRIX APPROXIMATE\n",
            " PARAMETER  CORRELATION COEFFICIENTS  \n",
            "       NO.  GLOBAL      1      2      3      4      5      6      7      8\n",
            "        1  0.00000   1.000  0.000  0.000  0.000  0.000  0.000  0.000  0.000\n",
            "        2  0.00000   0.000  1.000  0.000  0.000  0.000  0.000  0.000  0.000\n",
            "        3  0.00000   0.000  0.000  1.000  0.000  0.000  0.000  0.000  0.000\n",
            "        4  0.00000   0.000  0.000  0.000  1.000  0.000  0.000  0.000  0.000\n",
            "        5  0.00000   0.000  0.000  0.000  0.000  1.000  0.000  0.000  0.000\n",
            "        6  0.00000   0.000  0.000  0.000  0.000  0.000  1.000  0.000  0.000\n",
            "        7  0.00000   0.000  0.000  0.000  0.000  0.000  0.000  1.000  0.000\n",
            "        8  0.00000   0.000  0.000  0.000  0.000  0.000  0.000  0.000  1.000\n",
            " ERR MATRIX APPROXIMATE\n",
            "[#1] INFO:Minization -- RooMinimizer::optimizeConst: deactivating const optimization\n"
          ],
          "name": "stdout"
        }
      ]
    },
    {
      "cell_type": "code",
      "metadata": {
        "colab": {
          "base_uri": "https://localhost:8080/",
          "height": 540
        },
        "id": "MzTUeiHlnQvh",
        "outputId": "0ebe78ec-1734-4d8e-fc5c-d6564a035d8d"
      },
      "source": [
        "#Now to plot it all\r\n",
        "c11=ROOT.TCanvas(\"c11\",\"c11\")\r\n",
        "frame=mass.frame()\r\n",
        "data_to_fit.plotOn(frame)\r\n",
        "model.plotOn(frame, ROOT.RooFit.Components(\"CB signal\"),ROOT.RooFit.LineColor(8),ROOT.RooFit.LineStyle(2))\r\n",
        "model.plotOn(frame, ROOT.RooFit.Components(\"Exponential background\"),ROOT.RooFit.LineColor(46),ROOT.RooFit.LineStyle(2))\r\n",
        "model.plotOn(frame)\r\n",
        "frame.Draw()\r\n",
        "c11.Update()\r\n",
        "c11.Draw()"
      ],
      "execution_count": 54,
      "outputs": [
        {
          "output_type": "stream",
          "text": [
            "[#0] ERROR:Plotting -- RooAbsPdf::plotOn(Full Model) ERROR: component selection expression 'CB signal' does not select any components of p.d.f.\n",
            "[#0] ERROR:Plotting -- RooAbsPdf::plotOn(Full Model) ERROR: component selection expression 'Exponential background' does not select any components of p.d.f.\n"
          ],
          "name": "stdout"
        },
        {
          "output_type": "stream",
          "text": [
            "Warning in <TCanvas::Constructor>: Deleting canvas with same name: c11\n"
          ],
          "name": "stderr"
        },
        {
          "output_type": "display_data",
          "data": {
            "image/png": "[encoded data removed]",
            "text/plain": [
              "<IPython.core.display.Image object>"
            ]
          },
          "metadata": {
            "tags": []
          }
        }
      ]
    },
    {
      "cell_type": "code",
      "metadata": {
        "colab": {
          "base_uri": "https://localhost:8080/"
        },
        "id": "qrNCp9KKFgp7",
        "outputId": "1c5d9ff8-d534-4c22-e8ea-5500f120c65a"
      },
      "source": [
        "# Errors\r\n",
        "signal = combined_signal_norm.getValV()\r\n",
        "print'the signal yield is', signal\r\n",
        "error = combined_signal_norm.getError()\r\n",
        "print'the error is', error\r\n",
        "\r\n",
        "# goodness of fit\r\n",
        "chi2 = frame.chiSquare()\r\n",
        "print'chisquare is', chi2"
      ],
      "execution_count": 55,
      "outputs": [
        {
          "output_type": "stream",
          "text": [
            "the signal yield is 2427.25841867\n",
            "the error is 50.4031496966\n",
            "chisquare is 1.44958324174\n"
          ],
          "name": "stdout"
        }
      ]
    },
    {
      "cell_type": "markdown",
      "metadata": {
        "id": "ob2HARgWoTGe"
      },
      "source": [
        "#Counting\r\n",
        "\r\n",
        "So we have now loaded our data; we have reconstructed information about the mother B meson and we have cut away any data which looks like it might not be what we are looking for. We have then plotted histograms of the mass of the B meson and used this to fit a model, a function to describe the events there. We now have to identify which of our events belong to the B<sup>+</sup> and how many of them belong to B<sup>-</sup>.\r\n",
        "\r\n",
        "To do this, should split out data into two groups (and throw away data which doesn't comply with either decay)\r\n",
        "\r\n",
        "We will be looking for the events which are\r\n",
        "\r\n",
        "\r\n",
        "B<sup>+</sup>->K<sup>+</sup> + K<sup>+</sup>  + K<sup>-</sup>\r\n",
        "\r\n",
        "or\r\n",
        "\r\n",
        "B<sup>-</sup>->K<sup>-</sup> + K<sup>-</sup>  + K<sup>+</sup>\r\n",
        "\r\n",
        "We can look for the number of positive and negative charges in H1, H2 and H3 (using the variable ```H1_Charge``` etc.). If we have 0 or 3 positive charges, we should throw the event away and if we have 1 it should be assigned be a B<sup>-</sup>, with 2 it should be a B<sup>+</sup>"
      ]
    },
    {
      "cell_type": "code",
      "metadata": {
        "id": "F_zg8RyG-Nyr"
      },
      "source": [
        "# Sorting data \r\n",
        "Throw_away = (\"(H1_Charge + H2_Charge + H3_Charge) != -3 || (H1_Charge + H2_Charge + H3_Charge) != 3\")\r\n",
        "CutTree=CutTree.CopyTree(Throw_away)\r\n",
        "\r\n",
        "B_plus = CutTree.CopyTree(\"(H1_Charge + H2_Charge + H3_Charge) == 1\")\r\n",
        "B_minus = CutTree.CopyTree(\"(H1_Charge + H2_Charge + H3_Charge) == -1\")\r\n",
        "\r\n",
        "B = CutTree.CopyTree(\"(H1_Charge + H2_Charge + H3_Charge) == 1 || (H1_Charge + H2_Charge + H3_Charge) == -1\")"
      ],
      "execution_count": 56,
      "outputs": []
    },
    {
      "cell_type": "code",
      "metadata": {
        "id": "8tovxpofNLZe"
      },
      "source": [
        "# fitting of B (b_plus + b_minus)"
      ],
      "execution_count": null,
      "outputs": []
    },
    {
      "cell_type": "code",
      "metadata": {
        "id": "qWoGE5x6Nk2u"
      },
      "source": [
        "#define physical measurment that we want to fit using RooRealVar\r\n",
        "# var = ROOT.RooRealVar =(\"Variable from Python\", \"Nickname\",Min, Max, Units)\r\n",
        "mass = ROOT.RooRealVar(\"M_m0\",\"Mass\",5000,5500,\"MeV/C^{2}\")\r\n",
        "\r\n",
        "#passing the rest of the variables into the model\r\n",
        "#For the RooRealVar the last three parameters are given, \"starting value\" and min/max values\r\n",
        "gaussMean = ROOT.RooRealVar(\"Mean\",\"Mean\",5300,5200,5350) \r\n",
        "gaussWidth = ROOT.RooRealVar(\"Width\",\"Width\",40,0,7000) \r\n",
        "\r\n",
        "#Now we have enough to make our Model for the signal:\r\n",
        "Gauss=ROOT.RooGaussian(\"Gaussian Signal\",\"Gauss\",mass,gaussMean,gaussWidth)\r\n",
        "Gauss_Norm= ROOT.RooRealVar(\"Gauss_Norm\",\"Signal Yield\", B.GetEntries()/30, 0, B.GetEntries() * 3) # B\r\n",
        "\r\n",
        "# RooRealVar() for the Crystal Ball\r\n",
        "CBmean = ROOT.RooRealVar(\"Mean\",\"Mean\", 5200, 5100, 5350) \r\n",
        "CBwidth = ROOT.RooRealVar(\"Width\", \"Width\", 20, 0, 60) \r\n",
        "CBalpha = ROOT.RooRealVar(\"Alpha\",\"Alpha\", 10, 0, 25) \r\n",
        "CBn = ROOT.RooRealVar(\"n\",\"n\", 2, 0, 8) \r\n",
        "\r\n",
        "#Now we have enough to make our Model for the signal:\r\n",
        "\r\n",
        "CB = ROOT.RooCBShape(\"Crystal Ball Signal\", \"CB\",mass, CBmean, CBwidth, CBalpha, CBn)\r\n",
        "CB_Norm= ROOT.RooRealVar(\"CB_Norm\",\"Signal Yield\", B.GetEntries()/30, 0, B.GetEntries() * 3) # B\r\n",
        "\r\n",
        "#We also need a background, so let's use a (simple) exponential:\r\n",
        "\r\n",
        "exponent=ROOT.RooRealVar(\"exponent\", \"C\", -0.02, -2, +2)\r\n",
        "exp_Norm= ROOT.RooRealVar(\"exp_Norm\",\"Background Yield\", B.GetEntries()/30, 0, B.GetEntries() * 2) # B\r\n",
        "\r\n",
        "#Define the  model for the background:\r\n",
        "\r\n",
        "Bkgnd=ROOT.RooExponential(\"Exponential Background\",\"Bkgnd\",mass,exponent)\r\n",
        "\r\n",
        "#Now we need to combine these two functions into a single PDF (probability density function)\r\n",
        "#and we need to add the normalisation factors at the end as scaling factors\r\n",
        "\r\n",
        "# combining signal + background\r\n",
        "combine_norm=ROOT.RooRealVar(\"combined norm\", \"combined_norm\", 0.5, 0, 1)\r\n",
        "combined_signal=ROOT.RooAddPdf(\"Combined Signal\", \"combined_signal\", Gauss, CB, combine_norm)\r\n",
        "combined_signal_norm=ROOT.RooRealVar(\"combined_signal_norm\",\"combined signal norm\", B.GetEntries()/30, 0, CutTree.GetEntries() * 3)"
      ],
      "execution_count": 57,
      "outputs": []
    },
    {
      "cell_type": "code",
      "metadata": {
        "colab": {
          "base_uri": "https://localhost:8080/"
        },
        "id": "Jbe2xRwVNneT",
        "outputId": "9a7375b9-f72f-4583-e710-7187ad152d2f"
      },
      "source": [
        "#Put our data set into a RooDataSet structure\r\n",
        "\r\n",
        "model=ROOT.RooAddPdf(\"Full Model\",\"model\",ROOT.RooArgList(combined_signal, Bkgnd),ROOT.RooArgList(combined_signal_norm, exp_Norm) ) # combining \r\n",
        "data_to_fit=ROOT.RooDataSet(\"Data Set\",\"data_to_fit\", B, ROOT.RooArgSet(mass)) # B\r\n",
        "\r\n",
        "#Then we can do the fitting:\r\n",
        "\r\n",
        "model.fitTo(data_to_fit)\r\n",
        "\r\n",
        "#if everything went well, you will see the outputs of RooFit below"
      ],
      "execution_count": 58,
      "outputs": [
        {
          "output_type": "execute_result",
          "data": {
            "text/plain": [
              "<ROOT.RooFitResult object at 0x(nil)>"
            ]
          },
          "metadata": {
            "tags": []
          },
          "execution_count": 58
        },
        {
          "output_type": "stream",
          "text": [
            "[#1] INFO:Eval -- RooAbsReal::attachToTree(M_m0) TTree Float_t branch M_m0 will be converted to double precision\n",
            "[#1] INFO:Eval -- RooTreeDataStore::loadValues(Data Set) Ignored 272 out of range events\n",
            "[#1] INFO:Minization -- p.d.f. provides expected number of events, including extended term in likelihood.\n",
            "[#1] INFO:Minization -- RooMinimizer::optimizeConst: activating const optimization\n",
            "[#1] INFO:Minization --  The following expressions will be evaluated in cache-and-track mode: (Gaussian Signal,Crystal Ball Signal,Exponential Background)\n",
            " **********\n",
            " **   20 **SET PRINT           1\n",
            " **********\n",
            " **********\n",
            " **   21 **SET NOGRAD\n",
            " **********\n",
            " PARAMETER DEFINITIONS:\n",
            "    NO.   NAME         VALUE      STEP SIZE      LIMITS\n",
            "     1 Alpha        1.00000e+01  2.50000e+00    0.00000e+00  2.50000e+01\n",
            "     2 Mean         5.30000e+03  1.50000e+01    5.20000e+03  5.35000e+03\n",
            "     3 Width        4.00000e+01  2.00000e+01    0.00000e+00  7.00000e+03\n",
            "     4 combined norm   5.00000e-01  1.00000e-01    0.00000e+00  1.00000e+00\n",
            "     5 combined_signal_norm   1.12733e+02  5.63667e+01    0.00000e+00  1.01460e+04\n",
            "     6 exp_Norm     1.12733e+02  5.63667e+01    0.00000e+00  6.76400e+03\n",
            "     7 exponent    -2.00000e-02  4.00000e-01   -2.00000e+00  2.00000e+00\n",
            "     8 n            2.00000e+00  8.00000e-01    0.00000e+00  8.00000e+00\n",
            " **********\n",
            " **   22 **SET ERR         0.5\n",
            " **********\n",
            " **********\n",
            " **   23 **SET PRINT           1\n",
            " **********\n",
            " **********\n",
            " **   24 **SET STR           1\n",
            " **********\n",
            " NOW USING STRATEGY  1: TRY TO BALANCE SPEED AGAINST RELIABILITY\n",
            " **********\n",
            " **   25 **MIGRAD        4000           1\n",
            " **********\n",
            " FIRST CALL TO USER FUNCTION AT NEW START POINT, WITH IFLAG=4.\n",
            " START MIGRAD MINIMIZATION.  STRATEGY  1.  CONVERGENCE WHEN EDM .LT. 1.00e-03\n",
            " FCN=631.625 FROM MIGRAD    STATUS=INITIATE      485 CALLS         486 TOTAL\n",
            "                     EDM= unknown      STRATEGY= 1      NO ERROR MATRIX       \n",
            "  EXT PARAMETER               CURRENT GUESS       STEP         FIRST   \n",
            "  NO.   NAME      VALUE            ERROR          SIZE      DERIVATIVE \n",
            "   1  Alpha        1.00000e+01   2.50000e+00   0.00000e+00  -1.00169e-03\n",
            "   2  Mean         5.30000e+03   1.50000e+01   0.00000e+00   1.35281e+03\n",
            "   3  Width        4.00000e+01   2.00000e+01   0.00000e+00   1.63948e+04\n",
            "   4  combined norm   2.60287e-01   1.00000e-01   0.00000e+00   1.08084e-08\n",
            "   5  combined_signal_norm   1.12733e+02   5.63667e+01   0.00000e+00  -1.85827e+04\n",
            "   6  exp_Norm     1.12733e+02   5.63667e+01   0.00000e+00  -7.02653e+03\n",
            "   7  exponent     7.14304e-04   4.00000e-01   0.00000e+00   9.37054e+04\n",
            "   8  n            2.00000e+00   8.00000e-01   0.00000e+00   0.00000e+00\n",
            "                               ERR DEF= 0.5\n",
            " MIGRAD MINIMIZATION HAS CONVERGED.\n",
            " FCN=-6121.79 FROM MIGRAD    STATUS=CONVERGED     680 CALLS         681 TOTAL\n",
            "                     EDM=7.62135e-07    STRATEGY= 1  ERROR MATRIX UNCERTAINTY   0.1 per cent\n",
            "  EXT PARAMETER                                   STEP         FIRST   \n",
            "  NO.   NAME      VALUE            ERROR          SIZE      DERIVATIVE \n",
            "   1  Alpha        1.34585e+01   1.28959e+01  -8.15466e-06  -8.00355e-11\n",
            "   2  Mean         5.28464e+03   3.81825e-01   2.99229e-05   3.75390e-02\n",
            "   3  Width        1.75556e+01   3.12322e-01   5.63127e-06   9.29739e-01\n",
            "   4  combined norm   3.84876e-01   5.90740e-01   2.54211e+00   1.40062e-08\n",
            "   5  combined_signal_norm   2.42747e+03   5.10881e+01  -1.05722e-04  -2.34252e-02\n",
            "   6  exp_Norm     6.82521e+02   2.94121e+01   3.37540e-04   1.85114e-02\n",
            "   7  exponent    -3.08154e-03   3.00254e-04   2.59044e-06  -5.64689e+00\n",
            "   8  n            2.00000e+00   2.91494e+00  -0.00000e+00   0.00000e+00\n",
            "                               ERR DEF= 0.5\n",
            " EXTERNAL ERROR MATRIX.    NDIM=  25    NPAR=  8    ERR DEF=0.5\n",
            "  3.877e+04  8.650e-04 -6.705e-04  1.455e-01  2.492e-01 -1.504e-01  3.452e-07  0.000e+00 \n",
            "  8.650e-04  1.458e-01  3.244e-03 -3.851e+00 -2.388e-01  2.488e-01 -2.261e-06  0.000e+00 \n",
            " -6.705e-04  3.244e-03  9.754e-02 -1.710e+00 -1.778e+00  1.797e+00  1.191e-05  0.000e+00 \n",
            "  1.455e-01 -3.851e+00 -1.710e+00  3.920e+07  9.084e+02 -8.081e+02 -5.612e-03  0.000e+00 \n",
            "  2.492e-01 -2.388e-01 -1.778e+00  9.084e+02  2.610e+03 -1.847e+02 -1.287e-03  0.000e+00 \n",
            " -1.504e-01  2.488e-01  1.797e+00 -8.081e+02 -1.847e+02  8.651e+02  1.308e-03  0.000e+00 \n",
            "  3.452e-07 -2.261e-06  1.191e-05 -5.612e-03 -1.287e-03  1.308e-03  9.015e-08  0.000e+00 \n",
            "  0.000e+00  0.000e+00  0.000e+00  0.000e+00  0.000e+00  0.000e+00  0.000e+00  1.200e+01 \n",
            " PARAMETER  CORRELATION COEFFICIENTS  \n",
            "       NO.  GLOBAL      1      2      3      4      5      6      7      8\n",
            "        1  0.00004   1.000  0.000 -0.000  0.000  0.000 -0.000  0.000  0.000\n",
            "        2  0.04221   0.000  1.000  0.027 -0.002 -0.012  0.022 -0.020  0.000\n",
            "        3  0.23518  -0.000  0.027  1.000 -0.001 -0.111  0.196  0.127  0.000\n",
            "        4  0.00567   0.000 -0.002 -0.001  1.000  0.003 -0.004 -0.003  0.000\n",
            "        5  0.16266   0.000 -0.012 -0.111  0.003  1.000 -0.123 -0.084  0.000\n",
            "        6  0.25051  -0.000  0.022  0.196 -0.004 -0.123  1.000  0.148  0.000\n",
            "        7  0.18947   0.000 -0.020  0.127 -0.003 -0.084  0.148  1.000  0.000\n",
            "        8  0.00000   0.000  0.000  0.000  0.000  0.000  0.000  0.000  1.000\n",
            " **********\n",
            " **   26 **SET ERR         0.5\n",
            " **********\n",
            " **********\n",
            " **   27 **SET PRINT           1\n",
            " **********\n",
            " **********\n",
            " **   28 **HESSE        4000\n",
            " **********\n",
            " MINUIT WARNING IN HESSE\n",
            " ============== Second derivative enters zero, param 8\n",
            " MINUIT WARNING IN HESSE\n",
            " ============== Second derivative zero for parameter8\n",
            "  MNHESS FAILS AND WILL RETURN DIAGONAL MATRIX. \n",
            " FCN=-6121.79 FROM HESSE     STATUS=FAILED         17 CALLS         698 TOTAL\n",
            "                     EDM=7.62135e-07    STRATEGY= 1  ERROR MATRIX UNCERTAINTY 100.0 per cent\n",
            "  EXT PARAMETER                APPROXIMATE     INTERNAL      INTERNAL  \n",
            "  NO.   NAME      VALUE            ERROR       STEP SIZE       VALUE   \n",
            "   1  Alpha        1.34585e+01   1.46976e+01   5.00000e-01   7.67586e-02\n",
            "   2  Mean         5.28464e+03   3.83773e-01   2.78790e-04   1.28913e-01\n",
            "   3  Width        1.75556e+01   3.03739e-01   4.68720e-05  -1.67100e+00\n",
            "   4  combined norm   3.84876e-01   6.74020e-01   5.00000e-01   6.05085e+00\n",
            "   5  combined_signal_norm   2.42747e+03   5.04065e+01   6.29228e-04  -5.48598e-01\n",
            "   6  exp_Norm     6.82521e+02   2.84840e+01   7.55200e-04  -9.24285e-01\n",
            "   7  exponent    -3.08154e-03   2.93294e-04   7.92666e-06  -1.54077e-03\n",
            "   8  n            5.84056e-01   4.27166e+00  -0.00000e+00  -5.23599e-01\n",
            "                               ERR DEF= 0.5\n",
            " EXTERNAL ERROR MATRIX.    NDIM=  25    NPAR=  8    ERR DEF=0.5\n",
            "  4.852e+11  0.000e+00  0.000e+00  0.000e+00  0.000e+00  0.000e+00  0.000e+00  0.000e+00 \n",
            "  0.000e+00  1.473e-01  0.000e+00  0.000e+00  0.000e+00  0.000e+00  0.000e+00  0.000e+00 \n",
            "  0.000e+00  0.000e+00  9.226e-02  0.000e+00  0.000e+00  0.000e+00  0.000e+00  0.000e+00 \n",
            "  0.000e+00  0.000e+00  0.000e+00  7.013e+07  0.000e+00  0.000e+00  0.000e+00  0.000e+00 \n",
            "  0.000e+00  0.000e+00  0.000e+00  0.000e+00  2.541e+03  0.000e+00  0.000e+00  0.000e+00 \n",
            "  0.000e+00  0.000e+00  0.000e+00  0.000e+00  0.000e+00  8.114e+02  0.000e+00  0.000e+00 \n",
            "  0.000e+00  0.000e+00  0.000e+00  0.000e+00  0.000e+00  0.000e+00  8.602e-08  0.000e+00 \n",
            "  0.000e+00  0.000e+00  0.000e+00  0.000e+00  0.000e+00  0.000e+00  0.000e+00  1.699e+01 \n",
            "ERR MATRIX APPROXIMATE\n",
            " PARAMETER  CORRELATION COEFFICIENTS  \n",
            "       NO.  GLOBAL      1      2      3      4      5      6      7      8\n",
            "        1  0.00000   1.000  0.000  0.000  0.000  0.000  0.000  0.000  0.000\n",
            "        2  0.00000   0.000  1.000  0.000  0.000  0.000  0.000  0.000  0.000\n",
            "        3  0.00000   0.000  0.000  1.000  0.000  0.000  0.000  0.000  0.000\n",
            "        4  0.00000   0.000  0.000  0.000  1.000  0.000  0.000  0.000  0.000\n",
            "        5  0.00000   0.000  0.000  0.000  0.000  1.000  0.000  0.000  0.000\n",
            "        6  0.00000   0.000  0.000  0.000  0.000  0.000  1.000  0.000  0.000\n",
            "        7  0.00000   0.000  0.000  0.000  0.000  0.000  0.000  1.000  0.000\n",
            "        8  0.00000   0.000  0.000  0.000  0.000  0.000  0.000  0.000  1.000\n",
            " ERR MATRIX APPROXIMATE\n",
            "[#1] INFO:Minization -- RooMinimizer::optimizeConst: deactivating const optimization\n"
          ],
          "name": "stdout"
        }
      ]
    },
    {
      "cell_type": "code",
      "metadata": {
        "colab": {
          "base_uri": "https://localhost:8080/",
          "height": 540
        },
        "id": "z8IqVREkNo91",
        "outputId": "42bc3f54-750e-41e1-ed17-b25494d3c3a0"
      },
      "source": [
        "#Now to plot it all\r\n",
        "c12=ROOT.TCanvas(\"c12\",\"c12\")\r\n",
        "frame=mass.frame()\r\n",
        "data_to_fit.plotOn(frame)\r\n",
        "model.plotOn(frame, ROOT.RooFit.Components(\"CB signal\"),ROOT.RooFit.LineColor(8),ROOT.RooFit.LineStyle(2))\r\n",
        "model.plotOn(frame, ROOT.RooFit.Components(\"Exponential background\"),ROOT.RooFit.LineColor(46),ROOT.RooFit.LineStyle(2))\r\n",
        "model.plotOn(frame)\r\n",
        "frame.Draw()\r\n",
        "c12.Update()\r\n",
        "c12.Draw()"
      ],
      "execution_count": 59,
      "outputs": [
        {
          "output_type": "stream",
          "text": [
            "[#0] ERROR:Plotting -- RooAbsPdf::plotOn(Full Model) ERROR: component selection expression 'CB signal' does not select any components of p.d.f.\n",
            "[#0] ERROR:Plotting -- RooAbsPdf::plotOn(Full Model) ERROR: component selection expression 'Exponential background' does not select any components of p.d.f.\n"
          ],
          "name": "stdout"
        },
        {
          "output_type": "stream",
          "text": [
            "Warning in <TCanvas::Constructor>: Deleting canvas with same name: c12\n"
          ],
          "name": "stderr"
        },
        {
          "output_type": "display_data",
          "data": {
            "image/png": "[encoded data removed]",
            "text/plain": [
              "<IPython.core.display.Image object>"
            ]
          },
          "metadata": {
            "tags": []
          }
        }
      ]
    },
    {
      "cell_type": "code",
      "metadata": {
        "colab": {
          "base_uri": "https://localhost:8080/"
        },
        "id": "LBPVpcSNO9nF",
        "outputId": "d6c99c3e-e50e-4e4e-949d-05ceac554ec8"
      },
      "source": [
        "# Errors\r\n",
        "signal = combined_signal_norm.getValV()\r\n",
        "print'the signal is', signal\r\n",
        "error = combined_signal_norm.getError()\r\n",
        "print'the error is', error\r\n",
        "\r\n",
        "# goodness of fit\r\n",
        "chi2 = frame.chiSquare()\r\n",
        "print'chisquare is', chi2"
      ],
      "execution_count": 60,
      "outputs": [
        {
          "output_type": "stream",
          "text": [
            "the signal is 2427.47239027\n",
            "the error is 50.406467755\n",
            "chisquare is 1.44937673208\n"
          ],
          "name": "stdout"
        }
      ]
    },
    {
      "cell_type": "markdown",
      "metadata": {
        "id": "r8VB5uN1obc4"
      },
      "source": [
        "Once we have defined if it's a B<sup>+</sup> or a B <sup>-</sup>, we should go ahead and ensure the pre-selection is applied and then plot our B mass, and fit the model to find the yield.\r\n",
        "\r\n",
        "We can then calculate the assymetry from this equation:\r\n",
        "\r\n",
        "$A=\\frac{(N^{B-}-N^{B+})}{(N^{B-}+N^{B+})}$\r\n",
        "\r\n",
        "Where N<sup>B+/- </sup> is the number of events found from the fitted yield of the signal from each data set.\r\n",
        "\r\n",
        "The uncertainty on this result is given by:\r\n",
        "\r\n",
        "$\\sigma_A=\\sqrt\\frac{1-A^2}{N^{B-}+N^{B+}}$\r\n",
        "\r\n",
        "Calculate these two values for your data and print them below:"
      ]
    },
    {
      "cell_type": "code",
      "metadata": {
        "id": "UiPNe2iuobSK",
        "colab": {
          "base_uri": "https://localhost:8080/"
        },
        "outputId": "4e6b04d8-5f8c-4dd7-e39f-935912b619f0"
      },
      "source": [
        "#Here do your calculation of the final result\r\n",
        "\r\n",
        "# Packages\r\n",
        "from __future__ import division\r\n",
        "from numpy import sqrt\r\n",
        "\r\n",
        "# Number of particles\r\n",
        "nbp = int(B_plus.GetEntries())\r\n",
        "nbm = int(B_minus.GetEntries())\r\n",
        "print(\"Number of B plus is \"+str(nbp))\r\n",
        "print(\"Number of B minus is \" + str(nbm))\r\n",
        "\r\n",
        "# Assymetry\r\n",
        "A = float(((nbm - nbp)/(nbm + nbp)))\r\n",
        "print(\"The assymetry is \"+ str(A))\r\n",
        "\r\n",
        "# Uncertainty\r\n",
        "sigA = sqrt((1-A**2)/(nbm+nbp))\r\n",
        "print(\"The uncertainty is \" + str(sigA))"
      ],
      "execution_count": 62,
      "outputs": [
        {
          "output_type": "stream",
          "text": [
            "Number of B plus is 1725\n",
            "Number of B minus is 1657\n",
            "The assymetry is -0.02010644589\n",
            "The uncertainty is 0.017191960105324262\n"
          ],
          "name": "stdout"
        }
      ]
    },
    {
      "cell_type": "markdown",
      "metadata": {
        "id": "r5B--_33okz1"
      },
      "source": [
        "#Congratulations!\r\n",
        "\r\n",
        "You just made your first LHCb physics analysis. Does this seem like a reasonable result? Did we explain why we have an excess of mass in the Universe?"
      ]
    },
    {
      "cell_type": "code",
      "metadata": {
        "id": "2w7Vz8FOP4ZL"
      },
      "source": [
        "# It seems that we don't have the same amount of B- and B+ so yeah?"
      ],
      "execution_count": null,
      "outputs": []
    },
    {
      "cell_type": "markdown",
      "metadata": {
        "id": "dzybWZylomGu"
      },
      "source": [
        "## **Bonus content only below here:**"
      ]
    },
    {
      "cell_type": "markdown",
      "metadata": {
        "id": "odpbRqdoou5M"
      },
      "source": [
        "To make a further anaysis, we can look into the intermediate processes.\r\n",
        "\r\n",
        "We have so far considered only that the B meson ultimately decays into three kaons. It may be that on the way, the B meson first decays into a Kaon and another particle, and then from that particle to two Kaons.\r\n",
        "\r\n",
        "We would expect this to be one of three possible modes (for B<sup>+</sup>):\r\n",
        "\r\n",
        "$R^{++} \\rightarrow K_1^+ +K_2^+$\r\n",
        "\r\n",
        "(we don't expect this to happen because of the like charges in the Kaons)\r\n",
        "\r\n",
        "$R^0 \\rightarrow K_1^+ +K_3^-$\r\n",
        "\r\n",
        "$R^0 \\rightarrow K_2^+ +K_3^-$\r\n",
        "\r\n",
        "(Expect symmetric arrangements for B<sup>-</sup>)\r\n",
        "\r\n",
        "To analyse the intermediate states we can measure the invarient masses of the intermediate states and then plot them on what is called a Dalitz plot (this is a 2D plot with two different two body decays (from the three body decay) on each axis)\r\n",
        "\r\n",
        "![Dalitz Plot](https://slideplayer.com/slide/15960097/88/images/15/Dalitz+plot%3A+%CE%9B+c+%2B+%E2%86%92%F0%9D%91%9D+%F0%9D%90%BE+%E2%88%92+%F0%9D%9C%8B+%2B.jpg)\r\n"
      ]
    },
    {
      "cell_type": "code",
      "metadata": {
        "id": "SqJxvZSKo1cW"
      },
      "source": [
        "#Define a function to find the invarient mass of two given Kaons"
      ],
      "execution_count": null,
      "outputs": []
    },
    {
      "cell_type": "code",
      "metadata": {
        "id": "m42l4dGZQ5Rm"
      },
      "source": [
        "def invariantMass(p1, p2) :\r\n",
        "  # build invariant mass string\r\n",
        "  m1  = p1+\"_M\" ;  px1 = p1+\"_PX\" ; py1 = p1+\"_PY\" ; pz1 = p1+\"_PZ\"\r\n",
        "  m2  = p2+\"_M\" ;  px2 = p2+\"_PX\" ; py2 = p2+\"_PY\" ; pz2 = p2+\"_PZ\"\r\n",
        "  ptot1 = \"sqrt(\"+px1+\"**2+\"+py1+\"**2+\"+pz1+\"**2)\"\r\n",
        "  ptot2 = \"sqrt(\"+px2+\"**2+\"+py2+\"**2+\"+pz2+\"**2)\"\r\n",
        "  E1 = \"sqrt({0}**2 + {1}**2)\".format(\"5380\",ptot1)\r\n",
        "  E2 = \"sqrt({0}**2 + {1}**2)\".format(\"5380\",ptot2)\r\n",
        "  pvecdot = \"({0}*{1} + {2}*{3} + {4}*{5})\".format(px1,px2, py1,py2, pz1,pz2)\r\n",
        "  M2 = \"({0}**2 + {1}**2 + 2*{2}*{3} - 2*{4})\".format(\"5380\",\"5380\",E1,E2,pvecdot)\r\n",
        "\r\n",
        "  return M2\r\n",
        "\r\n",
        "m2_H1H2 = invariantMass(\"H1\",\"H2\")\r\n",
        "m2_H2H3 = invariantMass(\"H2\",\"H3\")\r\n",
        "weightvar=\"1\"\r\n",
        "cuts= (\"1==1\")"
      ],
      "execution_count": 63,
      "outputs": []
    },
    {
      "cell_type": "code",
      "metadata": {
        "id": "YPVqECfPo3Wc"
      },
      "source": [
        "#Then, ensuring you're still taking the data after the selection, make a Dalitz plot. This is a 2-D scatter plot (use e.g. TH2F to make the plot where we used TH1F before)\r\n",
        "#Choose an appropriate binning in your scatter "
      ],
      "execution_count": null,
      "outputs": []
    },
    {
      "cell_type": "code",
      "metadata": {
        "colab": {
          "base_uri": "https://localhost:8080/",
          "height": 589
        },
        "id": "-P7dvJInQ7qy",
        "outputId": "10a5c68f-a2ec-455c-990a-83afd1ca66b5"
      },
      "source": [
        "c13 = ROOT.TCanvas(\"Dalitz_Plot\",\"Legend title\",800, 600) # New canvas\r\n",
        "  \r\n",
        "# Binning and range limit for the Dalitz Plots\r\n",
        "CutTree.Draw(\"{0}:{1}>>dalitzHist(10,1.08e8,2.5e8,8,1.08e8,2e8)\".format(m2_H1H2,m2_H2H3), \"{0}*{1}\".format(cuts,weightvar)) \r\n",
        "dalitzHistPos = ROOT.gDirectory.Get(\"dalitzHist\")\r\n",
        "  \r\n",
        "dalitzHistPos.Draw(\"colz\")\r\n",
        "\r\n",
        "# Plot features\r\n",
        "dalitzHistPos = ROOT.gDirectory.Get(\"dalitzHist\")\r\n",
        "dalitzHistPos.SetTitle(\"Dalitz plot of both B+ and B-\")\r\n",
        "dalitzHistPos.GetYaxis().SetTitle(\"m^{2}_{H1H2} [MeV^{2}/c^{4}]\")\r\n",
        "dalitzHistPos.GetXaxis().SetTitle(\"m^{2}_{H2H3} [MeV^{2}/c^{4}]\")\r\n",
        "\r\n",
        "# Drawing\r\n",
        "c13.Draw()\r\n",
        "c13.Update()"
      ],
      "execution_count": 64,
      "outputs": [
        {
          "output_type": "display_data",
          "data": {
            "image/png": "[encoded data removed]",
            "text/plain": [
              "<IPython.core.display.Image object>"
            ]
          },
          "metadata": {
            "tags": []
          }
        }
      ]
    },
    {
      "cell_type": "markdown",
      "metadata": {
        "id": "qPoPLt4Uo6QB"
      },
      "source": [
        "We can further improve our plot, since two sets of particles on each axis are exactly the same (one positive Kaon, one negative Kaon). So we can plot the maximum of the two values on one axis and the minimum on the other. We can use a quick numpy check and then plot those values."
      ]
    },
    {
      "cell_type": "code",
      "metadata": {
        "id": "KJ_fe2R3o8Aq"
      },
      "source": [
        "#Make the revised Dalitz plot here for B+ mesons"
      ],
      "execution_count": null,
      "outputs": []
    },
    {
      "cell_type": "code",
      "metadata": {
        "colab": {
          "base_uri": "https://localhost:8080/",
          "height": 606
        },
        "id": "S_ZaAtemRo9a",
        "outputId": "ff75bc7c-8246-4be6-ce42-7e92f29a9531"
      },
      "source": [
        "c14 = ROOT.TCanvas(\"Dalitz_Plot\",\"Legend title\",800, 600) # New canvas\r\n",
        "\r\n",
        "# Binning and range limit for the Dalitz Plots\r\n",
        "B_plus.Draw(\"{0}:{1}>>dalitzHist+(10,1.08e8,2.5e8,8,1.08e8,2e8)\".format(m2_H1H2,m2_H2H3), \"{0}*{1}\".format(cuts,weightvar)) \r\n",
        "\r\n",
        "dalitzHistP = ROOT.gDirectory.Get(\"dalitzHist+\")\r\n",
        "  \r\n",
        "dalitzHistP.Draw(\"colz\")\r\n",
        "\r\n",
        "# Plot features\r\n",
        "dalitzHistP.SetTitle(\"Dalitz plot of both B+\")\r\n",
        "dalitzHistP.GetYaxis().SetTitle(\"m^{2}_{H1H2} [MeV^{2}/c^{4}]\")\r\n",
        "dalitzHistP.GetXaxis().SetTitle(\"m^{2}_{H2H3} [MeV^{2}/c^{4}]\")\r\n",
        "  \r\n",
        "c14.Draw()\r\n",
        "c14.Update()"
      ],
      "execution_count": 65,
      "outputs": [
        {
          "output_type": "stream",
          "text": [
            "Warning in <TCanvas::Constructor>: Deleting canvas with same name: Dalitz_Plot\n"
          ],
          "name": "stderr"
        },
        {
          "output_type": "display_data",
          "data": {
            "image/png": "[encoded data removed]",
            "text/plain": [
              "<IPython.core.display.Image object>"
            ]
          },
          "metadata": {
            "tags": []
          }
        }
      ]
    },
    {
      "cell_type": "code",
      "metadata": {
        "id": "t46slV8Yo-Ed"
      },
      "source": [
        "#Make the revised Dalitz plot here for B- mesons"
      ],
      "execution_count": null,
      "outputs": []
    },
    {
      "cell_type": "code",
      "metadata": {
        "colab": {
          "base_uri": "https://localhost:8080/",
          "height": 606
        },
        "id": "tG-Tp4wwR0zV",
        "outputId": "41054240-f5bb-40f1-a5f5-6fb83c00a341"
      },
      "source": [
        "c15 = ROOT.TCanvas(\"Dalitz_Plot\",\"Legend title\",800, 600) # New canvas\r\n",
        "\r\n",
        "# Binning and range limit for the Dalitz Plots\r\n",
        "B_minus.Draw(\"{0}:{1}>>dalitzHist-(10,1.08e8,2.5e8,8,1.08e8,2e8)\".format(m2_H1H2,m2_H2H3), \"{0}*{1}\".format(cuts,weightvar)) \r\n",
        "dalitzHistM = ROOT.gDirectory.Get(\"dalitzHist-\")\r\n",
        "  \r\n",
        "dalitzHistM.Draw(\"colz\")\r\n",
        "\r\n",
        "# Plot features\r\n",
        "dalitzHistM.SetTitle(\"Dalitz plot of both B-\")\r\n",
        "dalitzHistM.GetYaxis().SetTitle(\"m^{2}_{H1H2} [MeV^{2}/c^{4}]\")\r\n",
        "dalitzHistM.GetXaxis().SetTitle(\"m^{2}_{H2H3} [MeV^{2}/c^{4}]\")\r\n",
        "  \r\n",
        "c15.Draw()\r\n",
        "c15.Update()"
      ],
      "execution_count": 66,
      "outputs": [
        {
          "output_type": "stream",
          "text": [
            "Warning in <TCanvas::Constructor>: Deleting canvas with same name: Dalitz_Plot\n"
          ],
          "name": "stderr"
        },
        {
          "output_type": "display_data",
          "data": {
            "image/png": "[encoded data removed]",
            "text/plain": [
              "<IPython.core.display.Image object>"
            ]
          },
          "metadata": {
            "tags": []
          }
        }
      ]
    },
    {
      "cell_type": "code",
      "metadata": {
        "id": "RfTDh69qo9_q"
      },
      "source": [
        "#Where we have a higher density of points (or a bigger value in the bin) this is indication of an intermediate resonance\r\n",
        "#Check out the possible resonances you have found in the PDG (http://pdg.lbl.gov/2020/tables/contents_tables.html)"
      ],
      "execution_count": null,
      "outputs": []
    },
    {
      "cell_type": "code",
      "metadata": {
        "colab": {
          "base_uri": "https://localhost:8080/",
          "height": 606
        },
        "id": "oJtrxY6wR6wD",
        "outputId": "23f3e0af-0841-45bd-98a6-fb215b3dbc5a"
      },
      "source": [
        "c16 = ROOT.TCanvas(\"Dalitz_Plot\",\"Legend title\",800, 600) # New canvas\r\n",
        "\r\n",
        "histSub = dalitzHistP.Clone(\"histSub\")\r\n",
        "histSub.Add(dalitzHistM, -1)\r\n",
        "\r\n",
        "histSub.Draw(\"colz\")\r\n",
        "\r\n",
        "# Plot features\r\n",
        "histSub.SetTitle(\"Dalitz plot subtracted\")\r\n",
        "histSub.GetYaxis().SetTitle(\"m^{2}_{H1H2} [MeV^{2}/c^{4}]\")\r\n",
        "histSub.GetXaxis().SetTitle(\"m^{2}_{H2H3} [MeV^{2}/c^{4}]\")\r\n",
        "  \r\n",
        "c16.Draw()\r\n",
        "c16.Update()"
      ],
      "execution_count": 67,
      "outputs": [
        {
          "output_type": "stream",
          "text": [
            "Warning in <TCanvas::Constructor>: Deleting canvas with same name: Dalitz_Plot\n"
          ],
          "name": "stderr"
        },
        {
          "output_type": "display_data",
          "data": {
            "image/png": "[encoded data removed]",
            "text/plain": [
              "<IPython.core.display.Image object>"
            ]
          },
          "metadata": {
            "tags": []
          }
        }
      ]
    }
  ]
}